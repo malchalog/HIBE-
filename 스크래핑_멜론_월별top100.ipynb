{
 "cells": [
  {
   "cell_type": "markdown",
   "metadata": {},
   "source": [
    "### 00. 크롬 드라이버 열기 "
   ]
  },
  {
   "cell_type": "code",
   "execution_count": 7,
   "metadata": {},
   "outputs": [],
   "source": [
    "# 전체화면 아닐 때 예외처리 완료\n",
    "from selenium import webdriver\n",
    "from selenium.webdriver.common.by import By\n",
    "from selenium.webdriver.support.ui import WebDriverWait\n",
    "from selenium.webdriver.support import expected_conditions as EC\n",
    "import pandas as pd\n",
    "import time as time\n",
    "from bs4 import BeautifulSoup as bs\n",
    "import re"
   ]
  },
  {
   "cell_type": "code",
   "execution_count": 8,
   "metadata": {},
   "outputs": [],
   "source": [
    "# 크롬드라이버 열기\n",
    "driver = webdriver.Chrome()\n",
    "driver.maximize_window() # 크롬창 크기 최대\n",
    "\n",
    "# 드라이버가 해당 url 접속\n",
    "url = 'https://www.melon.com/chart/index.htm' # 멜론차트 페이지\n",
    "driver.get(url)\n"
   ]
  },
  {
   "cell_type": "markdown",
   "metadata": {},
   "source": [
    "### 01. 차트 파인더 조건 클릭하기"
   ]
  },
  {
   "cell_type": "code",
   "execution_count": 9,
   "metadata": {},
   "outputs": [],
   "source": [
    "#차트파인더 클릭\n",
    "driver.find_element(By.CSS_SELECTOR, 'div.chart_finder').click()\n",
    "time.sleep(2)\n",
    "\n",
    "#월간차트 클릭\n",
    "driver.find_element(By.CSS_SELECTOR, 'h4.tab02').click()\n",
    "time.sleep(2)\n",
    "\n",
    "# 연대선택 2020년 클릭\n",
    "driver.find_element(By.XPATH, '//*[@id=\"d_chart_search\"]/div/div/div[1]/div[1]/ul/li[1]/span/label').click()\n",
    "time.sleep(2)\n",
    "\n",
    "# 연대선택 2023년 클릭\n",
    "# 규칙성이 있기 때문에 2024년은 li[1] 2023년은  li[2] 2022년은 li[3]으로 바꿔주면 됨.\n",
    "driver.find_element(By.XPATH, '//*[@id=\"d_chart_search\"]/div/div/div[2]/div[1]/ul/li[2]/span/label').click()\n",
    "time.sleep(2)\n",
    "\n",
    "# 일단 월간 탭을 활성화 시켜야 하므로 1월 클릭\n",
    "driver.find_element(By.XPATH, '//*[@id=\"d_chart_search\"]/div/div/div[3]/div[1]/ul/li[1]/span/label').click()\n",
    "\n"
   ]
  },
  {
   "cell_type": "markdown",
   "metadata": {},
   "source": [
    " ### 02. 클릭 버튼 활성화된 month까지 가져오도록  month_active_list 만들어주기"
   ]
  },
  {
   "cell_type": "code",
   "execution_count": 11,
   "metadata": {},
   "outputs": [
    {
     "data": {
      "text/plain": [
       "12"
      ]
     },
     "execution_count": 11,
     "metadata": {},
     "output_type": "execute_result"
    }
   ],
   "source": [
    "# 2023년은 12월까지 결과가 다 나왔기 때문에 month_active_list가 01월부터 12월까지 만들어진다. \n",
    "# 2023포함 이전 연도는 12월까지 결과가 다 나왔기 때문에  12가 출력되고, # 2024년은 2월까지만 출력된다\n",
    "\n",
    "month_active_list = driver.find_element(By.CSS_SELECTOR, 'div.box_chic.nth3.view.on > div.list_value').text\n",
    "active_last_month = int(month_active_list.split('\\n')[-1].replace('월','').strip()) # 2023년 활성화된 마지막월은 12\n",
    "active_last_month\n"
   ]
  },
  {
   "cell_type": "markdown",
   "metadata": {},
   "source": [
    "### 03. 12월까지 반복수행 하여 빈 리스트에 지정한 값을 담는다"
   ]
  },
  {
   "cell_type": "code",
   "execution_count": 13,
   "metadata": {},
   "outputs": [],
   "source": [
    "\n",
    "year_list = []\n",
    "month_list = []\n",
    "rank_list = []\n",
    "title_list = []\n",
    "artist_list = []\n",
    "album_list = []\n",
    "\n",
    "# 12월까지  12번 반복해서 월, 장르, 검색 버튼 클릭하고 연도와 월 가져오는 for문\n",
    "for month in range(active_last_month):  \n",
    " \n",
    "    #월 버튼 클릭 \n",
    "    month_tab = f'//*[@id=\"d_chart_search\"]/div/div/div[3]/div[1]/ul/li[{month+1}]/span/label' \n",
    "    driver.find_element(By.XPATH, month_tab).click()\n",
    "    time.sleep(2)\n",
    "    \n",
    "    # 장르 종합 선택\n",
    "    driver.find_element(By.XPATH, '//*[@id=\"d_chart_search\"]/div/div/div[5]/div[1]/ul/li[3]/span/label').click()\n",
    "    time.sleep(2)\n",
    "    \n",
    "    # 검색 버튼 클릭\n",
    "    driver.find_element(By.XPATH, '//*[@id=\"d_srch_form\"]/div[2]/button/span/span').click()\n",
    "    time.sleep(2)\n",
    "    \n",
    "    #해당 월의 정보 파싱해오기 \n",
    "    html = driver.page_source\n",
    "    soup = bs(html, 'html.parser')\n",
    "    song_soup = soup.select('tbody > tr')\n",
    "    month_soup = soup.select('span.datelk')[1].get_text().replace('\\n', '')\n",
    "    year_soup = soup.select('span.datelk')[0].get_text().replace('\\n', '')\n",
    "    \n",
    "    # 해당 월마다 rank, title, artist, album 정보 가져오는 for문 \n",
    "    for song in song_soup:\n",
    "        # list에 append하면서 쓸데없는 문자, 공백 replace를 통해 삭제\n",
    "        rank = song.find('span', class_= 'rank').get_text().replace('\\n', '')\n",
    "        title = song.find('div', class_= 'ellipsis rank01').get_text().replace('\\n', '')\n",
    "        artist = song.find('a', class_= 'fc_mgray').get_text()\n",
    "        album = song.find('div', class_= 'ellipsis rank03').get_text().replace('\\n', '')\n",
    "        rank_list.append(rank)\n",
    "        title_list.append(title)\n",
    "        artist_list.append(artist)\n",
    "        album_list.append(album)\n",
    "        year_list.append(year_soup)\n",
    "        month_list.append(month_soup)\n",
    "        \n",
    "     \n",
    "\n",
    "chart_df_23 = pd.DataFrame(columns=['year','month','rank','title','artist','album'],\n",
    "                         data=zip(year_list,month_list,rank_list, title_list, artist_list, album_list))\n",
    "    \n"
   ]
  },
  {
   "cell_type": "code",
   "execution_count": 14,
   "metadata": {},
   "outputs": [
    {
     "data": {
      "text/html": [
       "<div>\n",
       "<style scoped>\n",
       "    .dataframe tbody tr th:only-of-type {\n",
       "        vertical-align: middle;\n",
       "    }\n",
       "\n",
       "    .dataframe tbody tr th {\n",
       "        vertical-align: top;\n",
       "    }\n",
       "\n",
       "    .dataframe thead th {\n",
       "        text-align: right;\n",
       "    }\n",
       "</style>\n",
       "<table border=\"1\" class=\"dataframe\">\n",
       "  <thead>\n",
       "    <tr style=\"text-align: right;\">\n",
       "      <th></th>\n",
       "      <th>year</th>\n",
       "      <th>month</th>\n",
       "      <th>rank</th>\n",
       "      <th>title</th>\n",
       "      <th>artist</th>\n",
       "      <th>album</th>\n",
       "    </tr>\n",
       "  </thead>\n",
       "  <tbody>\n",
       "    <tr>\n",
       "      <th>0</th>\n",
       "      <td>2023</td>\n",
       "      <td>01</td>\n",
       "      <td>1</td>\n",
       "      <td>Ditto</td>\n",
       "      <td>NewJeans</td>\n",
       "      <td>NewJeans 'OMG'</td>\n",
       "    </tr>\n",
       "    <tr>\n",
       "      <th>1</th>\n",
       "      <td>2023</td>\n",
       "      <td>01</td>\n",
       "      <td>2</td>\n",
       "      <td>OMG</td>\n",
       "      <td>NewJeans</td>\n",
       "      <td>NewJeans 'OMG'</td>\n",
       "    </tr>\n",
       "    <tr>\n",
       "      <th>2</th>\n",
       "      <td>2023</td>\n",
       "      <td>01</td>\n",
       "      <td>3</td>\n",
       "      <td>Hype Boy</td>\n",
       "      <td>NewJeans</td>\n",
       "      <td>NewJeans 1st EP 'New Jeans'</td>\n",
       "    </tr>\n",
       "    <tr>\n",
       "      <th>3</th>\n",
       "      <td>2023</td>\n",
       "      <td>01</td>\n",
       "      <td>4</td>\n",
       "      <td>사건의 지평선</td>\n",
       "      <td>윤하 (YOUNHA)</td>\n",
       "      <td>YOUNHA 6th Album Repackage 'END THEORY : Final...</td>\n",
       "    </tr>\n",
       "    <tr>\n",
       "      <th>4</th>\n",
       "      <td>2023</td>\n",
       "      <td>01</td>\n",
       "      <td>5</td>\n",
       "      <td>ANTIFRAGILE</td>\n",
       "      <td>LE SSERAFIM (르세라핌)</td>\n",
       "      <td>ANTIFRAGILE</td>\n",
       "    </tr>\n",
       "  </tbody>\n",
       "</table>\n",
       "</div>"
      ],
      "text/plain": [
       "   year month rank        title              artist  \\\n",
       "0  2023    01    1        Ditto            NewJeans   \n",
       "1  2023    01    2          OMG            NewJeans   \n",
       "2  2023    01    3     Hype Boy            NewJeans   \n",
       "3  2023    01    4      사건의 지평선         윤하 (YOUNHA)   \n",
       "4  2023    01    5  ANTIFRAGILE  LE SSERAFIM (르세라핌)   \n",
       "\n",
       "                                               album  \n",
       "0                                     NewJeans 'OMG'  \n",
       "1                                     NewJeans 'OMG'  \n",
       "2                        NewJeans 1st EP 'New Jeans'  \n",
       "3  YOUNHA 6th Album Repackage 'END THEORY : Final...  \n",
       "4                                        ANTIFRAGILE  "
      ]
     },
     "execution_count": 14,
     "metadata": {},
     "output_type": "execute_result"
    }
   ],
   "source": [
    "chart_df_23.head(5)"
   ]
  },
  {
   "cell_type": "code",
   "execution_count": 16,
   "metadata": {},
   "outputs": [
    {
     "name": "stdout",
     "output_type": "stream",
     "text": [
      "<class 'pandas.core.frame.DataFrame'>\n",
      "RangeIndex: 1200 entries, 0 to 1199\n",
      "Data columns (total 6 columns):\n",
      " #   Column  Non-Null Count  Dtype \n",
      "---  ------  --------------  ----- \n",
      " 0   year    1200 non-null   object\n",
      " 1   month   1200 non-null   object\n",
      " 2   rank    1200 non-null   object\n",
      " 3   title   1200 non-null   object\n",
      " 4   artist  1200 non-null   object\n",
      " 5   album   1200 non-null   object\n",
      "dtypes: object(6)\n",
      "memory usage: 56.4+ KB\n"
     ]
    }
   ],
   "source": [
    "# 100개씩 12개월이니 1200개 정상적으로 담김을 확인\n",
    "chart_df_23.info() "
   ]
  },
  {
   "cell_type": "code",
   "execution_count": null,
   "metadata": {},
   "outputs": [],
   "source": []
  }
 ],
 "metadata": {
  "kernelspec": {
   "display_name": "web_scapping",
   "language": "python",
   "name": "python3"
  },
  "language_info": {
   "codemirror_mode": {
    "name": "ipython",
    "version": 3
   },
   "file_extension": ".py",
   "mimetype": "text/x-python",
   "name": "python",
   "nbconvert_exporter": "python",
   "pygments_lexer": "ipython3",
   "version": "3.8.17"
  }
 },
 "nbformat": 4,
 "nbformat_minor": 2
}
