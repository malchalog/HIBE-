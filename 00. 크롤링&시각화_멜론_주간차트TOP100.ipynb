{
 "cells": [
  {
   "cell_type": "markdown",
   "metadata": {},
   "source": [
    "# 1. 동적 크롤링을 통해 음원 순위 데이터 수집하기"
   ]
  },
  {
   "cell_type": "markdown",
   "metadata": {},
   "source": [
    "### 00. 크롬 드라이버 열기 "
   ]
  },
  {
   "cell_type": "code",
   "execution_count": 4,
   "metadata": {},
   "outputs": [],
   "source": [
    "# 전체화면 아닐 때 예외처리 완료\n",
    "from selenium import webdriver\n",
    "from selenium.webdriver.common.by import By\n",
    "from selenium.webdriver.support.ui import WebDriverWait\n",
    "from selenium.webdriver.support import expected_conditions as EC\n",
    "import pandas as pd\n",
    "import time as time\n",
    "from bs4 import BeautifulSoup as bs\n",
    "import re"
   ]
  },
  {
   "cell_type": "code",
   "execution_count": 5,
   "metadata": {},
   "outputs": [],
   "source": [
    "# 크롬드라이버 열기\n",
    "driver = webdriver.Chrome()\n",
    "driver.maximize_window() # 크롬창 크기 최대\n",
    "\n",
    "# 드라이버가 해당 url 접속\n",
    "url = 'https://www.melon.com/chart/index.htm' # 멜론차트 페이지\n",
    "driver.get(url)\n"
   ]
  },
  {
   "cell_type": "markdown",
   "metadata": {},
   "source": [
    "### 01. 차트 파인더 조건 클릭하기"
   ]
  },
  {
   "cell_type": "code",
   "execution_count": 6,
   "metadata": {},
   "outputs": [],
   "source": [
    "#차트파인더 클릭\n",
    "driver.find_element(By.CSS_SELECTOR, 'div.chart_finder').click()\n",
    "time.sleep(2)\n",
    "\n",
    "#주간차트 클릭\n",
    "driver.find_element(By.CSS_SELECTOR, 'h4.tab01').click()\n",
    "time.sleep(2)\n",
    "\n",
    "# 연대선택 2020년 클릭\n",
    "driver.find_element(By.XPATH, '//*[@id=\"d_chart_search\"]/div/div/div[1]/div[1]/ul/li[1]/span/label').click()\n",
    "time.sleep(2)\n",
    "\n",
    "# 연대선택 2023년 클릭\n",
    "# 규칙성이 있기 때문에 2024년은 li[1] 2023년은  li[2] 2022년은 li[3]으로 바꿔주면 됨.\n",
    "driver.find_element(By.XPATH, '//*[@id=\"d_chart_search\"]/div/div/div[2]/div[1]/ul/li[2]/span/label').click()\n",
    "time.sleep(2)\n",
    "\n",
    "#  1월 클릭\n",
    "driver.find_element(By.XPATH, '//*[@id=\"d_chart_search\"]/div/div/div[3]/div[1]/ul/li[1]/span/label').click()\n",
    "time.sleep(2)\n",
    "\n",
    "#  첫째주 클릭\n",
    "driver.find_element(By.XPATH, '//*[@id=\"d_chart_search\"]/div/div/div[4]/div[1]/ul/li[1]/span/label').click()\n",
    "\n"
   ]
  },
  {
   "cell_type": "markdown",
   "metadata": {},
   "source": [
    " ### 02. 클릭 버튼 활성화된 month까지 가져오도록  month_active_list 만들어주기"
   ]
  },
  {
   "cell_type": "code",
   "execution_count": 7,
   "metadata": {},
   "outputs": [
    {
     "data": {
      "text/plain": [
       "12"
      ]
     },
     "execution_count": 7,
     "metadata": {},
     "output_type": "execute_result"
    }
   ],
   "source": [
    "# 2023년은 12월까지 결과가 다 나왔기 때문에 month_active_list가 01월부터 12월까지 만들어진다. \n",
    "# 2023포함 이전 연도는 12월까지 결과가 다 나왔기 때문에  12가 출력되고, # 2024년은 2월까지만 출력된다\n",
    "\n",
    "month_active_list = driver.find_element(By.CSS_SELECTOR, 'div.box_chic.nth3.view.on > div.list_value').text\n",
    "active_last_month = int(month_active_list.split('\\n')[-1].replace('월','').strip()) # 2023년 활성화된 마지막월은 12\n",
    "active_last_month"
   ]
  },
  {
   "cell_type": "markdown",
   "metadata": {},
   "source": [
    "### 03. 클릭 버튼 활성화된 week까지 가져오도록 week_active_list 만들어주기"
   ]
  },
  {
   "cell_type": "code",
   "execution_count": 8,
   "metadata": {},
   "outputs": [
    {
     "data": {
      "text/plain": [
       "4"
      ]
     },
     "execution_count": 8,
     "metadata": {},
     "output_type": "execute_result"
    }
   ],
   "source": [
    "active_week_list = driver.find_element(By.CSS_SELECTOR, 'div.box_chic.nth4.view.on > div.list_value > ul').text\n",
    "active_last_week = active_week_list.count('\\n')+1 #\\n의 개수를 세서  +1하여 활성화된 주차를 계산함.\n",
    "active_last_week # 1월은 4주까지 있으므로 4주까지 클릭됨"
   ]
  },
  {
   "cell_type": "markdown",
   "metadata": {},
   "source": [
    "### 03. 12월까지 반복수행 하여 빈 리스트에 지정한 값을 담는다"
   ]
  },
  {
   "cell_type": "code",
   "execution_count": 9,
   "metadata": {},
   "outputs": [],
   "source": [
    "\n",
    "\n",
    "week_list = []\n",
    "rank_list = []\n",
    "title_list = []\n",
    "artist_list = []\n",
    "album_list = []\n",
    "\n",
    "# 12월까지  12번 반복해서 월, 장르, 검색 버튼 클릭하고 연도와 월 가져오는 for문\n",
    "for month in range(active_last_month) :  \n",
    " \n",
    "    #월 버튼 클릭 \n",
    "    month_tab = f'//*[@id=\"d_chart_search\"]/div/div/div[3]/div[1]/ul/li[{month+1}]/span/label' \n",
    "    driver.find_element(By.XPATH, month_tab).click()\n",
    "    time.sleep(2)\n",
    "    \n",
    "    for week in range(active_last_week) : \n",
    "    #주 버튼 클릭 \n",
    "        week_tab = f'//*[@id=\"d_chart_search\"]/div/div/div[4]/div[1]/ul/li[{week+1}]/span/label'\n",
    "        driver.find_element(By.XPATH, week_tab).click()\n",
    "        time.sleep(2)\n",
    "    \n",
    "        \n",
    "        # 장르 종합 선택\n",
    "        driver.find_element(By.XPATH, '//*[@id=\"d_chart_search\"]/div/div/div[5]/div[1]/ul/li[1]/span/label').click()\n",
    "        time.sleep(2)\n",
    "    \n",
    "        # 검색 버튼 클릭\n",
    "        driver.find_element(By.XPATH, '//*[@id=\"d_srch_form\"]/div[2]/button/span/span').click()\n",
    "        time.sleep(2)\n",
    "       \n",
    "        #해당 주의 정보 파싱해오기 \n",
    "        html = driver.page_source\n",
    "        soup = bs(html, 'html.parser')\n",
    "        song_soup = soup.select('tbody > tr')\n",
    "        week_soup = soup.select('span.datelk')[0].get_text().replace('\\n', '')\n",
    "    \n",
    "        # 해당 월마다 rank, title, artist, album 정보 가져오는 for문 \n",
    "        for song in song_soup :\n",
    "        # list에 append하면서 쓸데없는 문자, 공백 replace를 통해 삭제\n",
    "            rank = song.find('span', class_= 'rank').get_text().replace('\\n', '')\n",
    "            title = song.find('div', class_= 'ellipsis rank01').get_text().replace('\\n', '')\n",
    "            artist = song.find('a', class_= 'fc_mgray').get_text()\n",
    "            album = song.find('div', class_= 'ellipsis rank03').get_text().replace('\\n', '')\n",
    "            rank_list.append(rank)\n",
    "            title_list.append(title)\n",
    "            artist_list.append(artist)\n",
    "            album_list.append(album)\n",
    "            week_list.append(week_soup)\n",
    "        \n",
    "     \n",
    "\n",
    "chart_df_23 = pd.DataFrame(columns=['week','rank','title','artist','album'],\n",
    "                         data=zip(week_list,rank_list, title_list, artist_list, album_list))\n",
    "        \n",
    "    \n",
    "    \n"
   ]
  },
  {
   "cell_type": "markdown",
   "metadata": {},
   "source": [
    "# 2. 전처리 "
   ]
  },
  {
   "cell_type": "markdown",
   "metadata": {},
   "source": [
    "### 초동(음반)데이터와 크롤링으로 수집한 멜론 주간차트 데이터 merge"
   ]
  },
  {
   "cell_type": "code",
   "execution_count": 338,
   "metadata": {},
   "outputs": [
    {
     "data": {
      "text/html": [
       "<div>\n",
       "<style scoped>\n",
       "    .dataframe tbody tr th:only-of-type {\n",
       "        vertical-align: middle;\n",
       "    }\n",
       "\n",
       "    .dataframe tbody tr th {\n",
       "        vertical-align: top;\n",
       "    }\n",
       "\n",
       "    .dataframe thead th {\n",
       "        text-align: right;\n",
       "    }\n",
       "</style>\n",
       "<table border=\"1\" class=\"dataframe\">\n",
       "  <thead>\n",
       "    <tr style=\"text-align: right;\">\n",
       "      <th></th>\n",
       "      <th>artist</th>\n",
       "      <th>sex</th>\n",
       "      <th>week_x</th>\n",
       "      <th>title_x</th>\n",
       "      <th>album_x</th>\n",
       "      <th>chodong</th>\n",
       "      <th>melon_like</th>\n",
       "      <th>week_y</th>\n",
       "      <th>rank</th>\n",
       "    </tr>\n",
       "  </thead>\n",
       "  <tbody>\n",
       "    <tr>\n",
       "      <th>0</th>\n",
       "      <td>세븐틴 (SEVENTEEN)</td>\n",
       "      <td>m</td>\n",
       "      <td>2023.04.24</td>\n",
       "      <td>손오공</td>\n",
       "      <td>SEVENTEEN 10th MiniAlbum ‘FML'</td>\n",
       "      <td>4550200</td>\n",
       "      <td>169085</td>\n",
       "      <td>2023.04.24 ~ 2023.04.30</td>\n",
       "      <td>8</td>\n",
       "    </tr>\n",
       "    <tr>\n",
       "      <th>1</th>\n",
       "      <td>세븐틴 (SEVENTEEN)</td>\n",
       "      <td>m</td>\n",
       "      <td>2023.04.24</td>\n",
       "      <td>손오공</td>\n",
       "      <td>SEVENTEEN 10th MiniAlbum ‘FML'</td>\n",
       "      <td>4550200</td>\n",
       "      <td>169085</td>\n",
       "      <td>2023.05.01 ~ 2023.05.07</td>\n",
       "      <td>5</td>\n",
       "    </tr>\n",
       "    <tr>\n",
       "      <th>2</th>\n",
       "      <td>세븐틴 (SEVENTEEN)</td>\n",
       "      <td>m</td>\n",
       "      <td>2023.04.24</td>\n",
       "      <td>손오공</td>\n",
       "      <td>SEVENTEEN 10th MiniAlbum ‘FML'</td>\n",
       "      <td>4550200</td>\n",
       "      <td>169085</td>\n",
       "      <td>2023.05.08 ~ 2023.05.14</td>\n",
       "      <td>5</td>\n",
       "    </tr>\n",
       "    <tr>\n",
       "      <th>3</th>\n",
       "      <td>세븐틴 (SEVENTEEN)</td>\n",
       "      <td>m</td>\n",
       "      <td>2023.04.24</td>\n",
       "      <td>손오공</td>\n",
       "      <td>SEVENTEEN 10th MiniAlbum ‘FML'</td>\n",
       "      <td>4550200</td>\n",
       "      <td>169085</td>\n",
       "      <td>2023.05.15 ~ 2023.05.21</td>\n",
       "      <td>6</td>\n",
       "    </tr>\n",
       "    <tr>\n",
       "      <th>4</th>\n",
       "      <td>세븐틴 (SEVENTEEN)</td>\n",
       "      <td>m</td>\n",
       "      <td>2023.04.24</td>\n",
       "      <td>손오공</td>\n",
       "      <td>SEVENTEEN 10th MiniAlbum ‘FML'</td>\n",
       "      <td>4550200</td>\n",
       "      <td>169085</td>\n",
       "      <td>2023.05.22 ~ 2023.05.28</td>\n",
       "      <td>7</td>\n",
       "    </tr>\n",
       "  </tbody>\n",
       "</table>\n",
       "</div>"
      ],
      "text/plain": [
       "            artist sex      week_x title_x                         album_x  \\\n",
       "0  세븐틴 (SEVENTEEN)   m  2023.04.24     손오공  SEVENTEEN 10th MiniAlbum ‘FML'   \n",
       "1  세븐틴 (SEVENTEEN)   m  2023.04.24     손오공  SEVENTEEN 10th MiniAlbum ‘FML'   \n",
       "2  세븐틴 (SEVENTEEN)   m  2023.04.24     손오공  SEVENTEEN 10th MiniAlbum ‘FML'   \n",
       "3  세븐틴 (SEVENTEEN)   m  2023.04.24     손오공  SEVENTEEN 10th MiniAlbum ‘FML'   \n",
       "4  세븐틴 (SEVENTEEN)   m  2023.04.24     손오공  SEVENTEEN 10th MiniAlbum ‘FML'   \n",
       "\n",
       "   chodong  melon_like                   week_y  rank  \n",
       "0  4550200      169085  2023.04.24 ~ 2023.04.30     8  \n",
       "1  4550200      169085  2023.05.01 ~ 2023.05.07     5  \n",
       "2  4550200      169085  2023.05.08 ~ 2023.05.14     5  \n",
       "3  4550200      169085  2023.05.15 ~ 2023.05.21     6  \n",
       "4  4550200      169085  2023.05.22 ~ 2023.05.28     7  "
      ]
     },
     "execution_count": 338,
     "metadata": {},
     "output_type": "execute_result"
    }
   ],
   "source": [
    "df_merge = pd.merge(df_chodong , df, how='left', on= 'artist' )\n",
    "df_merge.head()\n",
    "df_merge.drop(['Unnamed: 0','title_y','album_y'], axis=1, inplace=True)\n",
    "df_merge.head()\n"
   ]
  },
  {
   "cell_type": "markdown",
   "metadata": {},
   "source": [
    "### 발매일로부터 차트인 진입에 소요된 기간 알아보기 위해 week_y컬럼의 공백 기준 구분"
   ]
  },
  {
   "cell_type": "code",
   "execution_count": 339,
   "metadata": {},
   "outputs": [],
   "source": [
    "df_merge['week_end'] = df_merge[\"week_y\"].str.split(\" \",expand=True)[2]\n",
    "df_merge['week_start'] = df_merge[\"week_y\"].str.split(\" \",expand=True)[0]"
   ]
  },
  {
   "cell_type": "code",
   "execution_count": 340,
   "metadata": {},
   "outputs": [],
   "source": [
    "df_merge['week_end']= pd.to_datetime(df_merge['week_end'])\n",
    "df_merge['week_x']= pd.to_datetime(df_merge['week_x'])\n",
    "df_merge['week_start']= pd.to_datetime(df_merge['week_start'])"
   ]
  },
  {
   "cell_type": "code",
   "execution_count": 341,
   "metadata": {},
   "outputs": [
    {
     "data": {
      "text/html": [
       "<div>\n",
       "<style scoped>\n",
       "    .dataframe tbody tr th:only-of-type {\n",
       "        vertical-align: middle;\n",
       "    }\n",
       "\n",
       "    .dataframe tbody tr th {\n",
       "        vertical-align: top;\n",
       "    }\n",
       "\n",
       "    .dataframe thead th {\n",
       "        text-align: right;\n",
       "    }\n",
       "</style>\n",
       "<table border=\"1\" class=\"dataframe\">\n",
       "  <thead>\n",
       "    <tr style=\"text-align: right;\">\n",
       "      <th></th>\n",
       "      <th>artist</th>\n",
       "      <th>sex</th>\n",
       "      <th>week_x</th>\n",
       "      <th>title_x</th>\n",
       "      <th>album_x</th>\n",
       "      <th>chodong</th>\n",
       "      <th>melon_like</th>\n",
       "      <th>week_y</th>\n",
       "      <th>rank</th>\n",
       "      <th>week_end</th>\n",
       "      <th>week_start</th>\n",
       "      <th>duration</th>\n",
       "    </tr>\n",
       "  </thead>\n",
       "  <tbody>\n",
       "    <tr>\n",
       "      <th>0</th>\n",
       "      <td>세븐틴 (SEVENTEEN)</td>\n",
       "      <td>m</td>\n",
       "      <td>2023-04-24</td>\n",
       "      <td>손오공</td>\n",
       "      <td>SEVENTEEN 10th MiniAlbum ‘FML'</td>\n",
       "      <td>4550200</td>\n",
       "      <td>169085</td>\n",
       "      <td>2023.04.24 ~ 2023.04.30</td>\n",
       "      <td>8</td>\n",
       "      <td>2023-04-30</td>\n",
       "      <td>2023-04-24</td>\n",
       "      <td>0 days</td>\n",
       "    </tr>\n",
       "    <tr>\n",
       "      <th>1</th>\n",
       "      <td>세븐틴 (SEVENTEEN)</td>\n",
       "      <td>m</td>\n",
       "      <td>2023-04-24</td>\n",
       "      <td>손오공</td>\n",
       "      <td>SEVENTEEN 10th MiniAlbum ‘FML'</td>\n",
       "      <td>4550200</td>\n",
       "      <td>169085</td>\n",
       "      <td>2023.05.01 ~ 2023.05.07</td>\n",
       "      <td>5</td>\n",
       "      <td>2023-05-07</td>\n",
       "      <td>2023-05-01</td>\n",
       "      <td>7 days</td>\n",
       "    </tr>\n",
       "    <tr>\n",
       "      <th>2</th>\n",
       "      <td>세븐틴 (SEVENTEEN)</td>\n",
       "      <td>m</td>\n",
       "      <td>2023-04-24</td>\n",
       "      <td>손오공</td>\n",
       "      <td>SEVENTEEN 10th MiniAlbum ‘FML'</td>\n",
       "      <td>4550200</td>\n",
       "      <td>169085</td>\n",
       "      <td>2023.05.08 ~ 2023.05.14</td>\n",
       "      <td>5</td>\n",
       "      <td>2023-05-14</td>\n",
       "      <td>2023-05-08</td>\n",
       "      <td>14 days</td>\n",
       "    </tr>\n",
       "    <tr>\n",
       "      <th>3</th>\n",
       "      <td>세븐틴 (SEVENTEEN)</td>\n",
       "      <td>m</td>\n",
       "      <td>2023-04-24</td>\n",
       "      <td>손오공</td>\n",
       "      <td>SEVENTEEN 10th MiniAlbum ‘FML'</td>\n",
       "      <td>4550200</td>\n",
       "      <td>169085</td>\n",
       "      <td>2023.05.15 ~ 2023.05.21</td>\n",
       "      <td>6</td>\n",
       "      <td>2023-05-21</td>\n",
       "      <td>2023-05-15</td>\n",
       "      <td>21 days</td>\n",
       "    </tr>\n",
       "    <tr>\n",
       "      <th>4</th>\n",
       "      <td>세븐틴 (SEVENTEEN)</td>\n",
       "      <td>m</td>\n",
       "      <td>2023-04-24</td>\n",
       "      <td>손오공</td>\n",
       "      <td>SEVENTEEN 10th MiniAlbum ‘FML'</td>\n",
       "      <td>4550200</td>\n",
       "      <td>169085</td>\n",
       "      <td>2023.05.22 ~ 2023.05.28</td>\n",
       "      <td>7</td>\n",
       "      <td>2023-05-28</td>\n",
       "      <td>2023-05-22</td>\n",
       "      <td>28 days</td>\n",
       "    </tr>\n",
       "    <tr>\n",
       "      <th>...</th>\n",
       "      <td>...</td>\n",
       "      <td>...</td>\n",
       "      <td>...</td>\n",
       "      <td>...</td>\n",
       "      <td>...</td>\n",
       "      <td>...</td>\n",
       "      <td>...</td>\n",
       "      <td>...</td>\n",
       "      <td>...</td>\n",
       "      <td>...</td>\n",
       "      <td>...</td>\n",
       "      <td>...</td>\n",
       "    </tr>\n",
       "    <tr>\n",
       "      <th>336</th>\n",
       "      <td>ITZY (있지)</td>\n",
       "      <td>f</td>\n",
       "      <td>2023-07-31</td>\n",
       "      <td>CAKE</td>\n",
       "      <td>KILL MY DOUBT</td>\n",
       "      <td>823700</td>\n",
       "      <td>34307</td>\n",
       "      <td>2023.10.23 ~ 2023.10.29</td>\n",
       "      <td>44</td>\n",
       "      <td>2023-10-29</td>\n",
       "      <td>2023-10-23</td>\n",
       "      <td>84 days</td>\n",
       "    </tr>\n",
       "    <tr>\n",
       "      <th>337</th>\n",
       "      <td>ITZY (있지)</td>\n",
       "      <td>f</td>\n",
       "      <td>2023-07-31</td>\n",
       "      <td>CAKE</td>\n",
       "      <td>KILL MY DOUBT</td>\n",
       "      <td>823700</td>\n",
       "      <td>34307</td>\n",
       "      <td>2023.10.30 ~ 2023.11.05</td>\n",
       "      <td>52</td>\n",
       "      <td>2023-11-05</td>\n",
       "      <td>2023-10-30</td>\n",
       "      <td>91 days</td>\n",
       "    </tr>\n",
       "    <tr>\n",
       "      <th>338</th>\n",
       "      <td>ITZY (있지)</td>\n",
       "      <td>f</td>\n",
       "      <td>2023-07-31</td>\n",
       "      <td>CAKE</td>\n",
       "      <td>KILL MY DOUBT</td>\n",
       "      <td>823700</td>\n",
       "      <td>34307</td>\n",
       "      <td>2023.11.06 ~ 2023.11.12</td>\n",
       "      <td>61</td>\n",
       "      <td>2023-11-12</td>\n",
       "      <td>2023-11-06</td>\n",
       "      <td>98 days</td>\n",
       "    </tr>\n",
       "    <tr>\n",
       "      <th>339</th>\n",
       "      <td>ITZY (있지)</td>\n",
       "      <td>f</td>\n",
       "      <td>2023-07-31</td>\n",
       "      <td>CAKE</td>\n",
       "      <td>KILL MY DOUBT</td>\n",
       "      <td>823700</td>\n",
       "      <td>34307</td>\n",
       "      <td>2023.11.13 ~ 2023.11.19</td>\n",
       "      <td>74</td>\n",
       "      <td>2023-11-19</td>\n",
       "      <td>2023-11-13</td>\n",
       "      <td>105 days</td>\n",
       "    </tr>\n",
       "    <tr>\n",
       "      <th>340</th>\n",
       "      <td>ITZY (있지)</td>\n",
       "      <td>f</td>\n",
       "      <td>2023-07-31</td>\n",
       "      <td>CAKE</td>\n",
       "      <td>KILL MY DOUBT</td>\n",
       "      <td>823700</td>\n",
       "      <td>34307</td>\n",
       "      <td>2023.11.20 ~ 2023.11.26</td>\n",
       "      <td>86</td>\n",
       "      <td>2023-11-26</td>\n",
       "      <td>2023-11-20</td>\n",
       "      <td>112 days</td>\n",
       "    </tr>\n",
       "  </tbody>\n",
       "</table>\n",
       "<p>341 rows × 12 columns</p>\n",
       "</div>"
      ],
      "text/plain": [
       "              artist sex     week_x title_x                         album_x  \\\n",
       "0    세븐틴 (SEVENTEEN)   m 2023-04-24     손오공  SEVENTEEN 10th MiniAlbum ‘FML'   \n",
       "1    세븐틴 (SEVENTEEN)   m 2023-04-24     손오공  SEVENTEEN 10th MiniAlbum ‘FML'   \n",
       "2    세븐틴 (SEVENTEEN)   m 2023-04-24     손오공  SEVENTEEN 10th MiniAlbum ‘FML'   \n",
       "3    세븐틴 (SEVENTEEN)   m 2023-04-24     손오공  SEVENTEEN 10th MiniAlbum ‘FML'   \n",
       "4    세븐틴 (SEVENTEEN)   m 2023-04-24     손오공  SEVENTEEN 10th MiniAlbum ‘FML'   \n",
       "..               ...  ..        ...     ...                             ...   \n",
       "336        ITZY (있지)   f 2023-07-31    CAKE                   KILL MY DOUBT   \n",
       "337        ITZY (있지)   f 2023-07-31    CAKE                   KILL MY DOUBT   \n",
       "338        ITZY (있지)   f 2023-07-31    CAKE                   KILL MY DOUBT   \n",
       "339        ITZY (있지)   f 2023-07-31    CAKE                   KILL MY DOUBT   \n",
       "340        ITZY (있지)   f 2023-07-31    CAKE                   KILL MY DOUBT   \n",
       "\n",
       "     chodong  melon_like                   week_y  rank   week_end week_start  \\\n",
       "0    4550200      169085  2023.04.24 ~ 2023.04.30     8 2023-04-30 2023-04-24   \n",
       "1    4550200      169085  2023.05.01 ~ 2023.05.07     5 2023-05-07 2023-05-01   \n",
       "2    4550200      169085  2023.05.08 ~ 2023.05.14     5 2023-05-14 2023-05-08   \n",
       "3    4550200      169085  2023.05.15 ~ 2023.05.21     6 2023-05-21 2023-05-15   \n",
       "4    4550200      169085  2023.05.22 ~ 2023.05.28     7 2023-05-28 2023-05-22   \n",
       "..       ...         ...                      ...   ...        ...        ...   \n",
       "336   823700       34307  2023.10.23 ~ 2023.10.29    44 2023-10-29 2023-10-23   \n",
       "337   823700       34307  2023.10.30 ~ 2023.11.05    52 2023-11-05 2023-10-30   \n",
       "338   823700       34307  2023.11.06 ~ 2023.11.12    61 2023-11-12 2023-11-06   \n",
       "339   823700       34307  2023.11.13 ~ 2023.11.19    74 2023-11-19 2023-11-13   \n",
       "340   823700       34307  2023.11.20 ~ 2023.11.26    86 2023-11-26 2023-11-20   \n",
       "\n",
       "    duration  \n",
       "0     0 days  \n",
       "1     7 days  \n",
       "2    14 days  \n",
       "3    21 days  \n",
       "4    28 days  \n",
       "..       ...  \n",
       "336  84 days  \n",
       "337  91 days  \n",
       "338  98 days  \n",
       "339 105 days  \n",
       "340 112 days  \n",
       "\n",
       "[341 rows x 12 columns]"
      ]
     },
     "execution_count": 341,
     "metadata": {},
     "output_type": "execute_result"
    }
   ],
   "source": [
    "df_merge['duration'] =  df_merge[\"week_start\"] - df_merge[\"week_x\"]\n",
    "df_merge"
   ]
  },
  {
   "cell_type": "code",
   "execution_count": 342,
   "metadata": {},
   "outputs": [],
   "source": [
    "import numpy as np\n",
    "df_merge['rank'].replace(np.NaN, 101, inplace = True) # 100위에 차트인하지 못한 경우는 101위로 만들어줌"
   ]
  },
  {
   "cell_type": "code",
   "execution_count": 343,
   "metadata": {},
   "outputs": [],
   "source": [
    "df_duration = df_merge.groupby(\"artist\")['duration'].min().reset_index().sort_values(by = 'duration')"
   ]
  },
  {
   "cell_type": "code",
   "execution_count": null,
   "metadata": {},
   "outputs": [],
   "source": [
    "df_duration.loc[(df_duration['duration'] <= '0 days'), 'week'] = '1'\n",
    "df_duration.loc[(df_duration['duration'] <= '0 days') | (df_duration['duration'] < '7 days') , 'week'] = '1'\n",
    "df_duration.loc[(df_duration['duration'] == '7 days'), 'week'] = '2'\n",
    "df_duration.loc[(df_duration['duration'] >= '45 days'), 'week'] = '7'\n",
    "df_duration"
   ]
  },
  {
   "cell_type": "code",
   "execution_count": 346,
   "metadata": {},
   "outputs": [
    {
     "data": {
      "text/html": [
       "<div>\n",
       "<style scoped>\n",
       "    .dataframe tbody tr th:only-of-type {\n",
       "        vertical-align: middle;\n",
       "    }\n",
       "\n",
       "    .dataframe tbody tr th {\n",
       "        vertical-align: top;\n",
       "    }\n",
       "\n",
       "    .dataframe thead th {\n",
       "        text-align: right;\n",
       "    }\n",
       "</style>\n",
       "<table border=\"1\" class=\"dataframe\">\n",
       "  <thead>\n",
       "    <tr style=\"text-align: right;\">\n",
       "      <th></th>\n",
       "      <th>artist</th>\n",
       "      <th>week</th>\n",
       "    </tr>\n",
       "  </thead>\n",
       "  <tbody>\n",
       "    <tr>\n",
       "      <th>1</th>\n",
       "      <td>Agust D</td>\n",
       "      <td>1</td>\n",
       "    </tr>\n",
       "    <tr>\n",
       "      <th>8</th>\n",
       "      <td>NewJeans</td>\n",
       "      <td>1</td>\n",
       "    </tr>\n",
       "    <tr>\n",
       "      <th>14</th>\n",
       "      <td>정국</td>\n",
       "      <td>1</td>\n",
       "    </tr>\n",
       "    <tr>\n",
       "      <th>11</th>\n",
       "      <td>STAYC(스테이씨)</td>\n",
       "      <td>1</td>\n",
       "    </tr>\n",
       "    <tr>\n",
       "      <th>13</th>\n",
       "      <td>세븐틴 (SEVENTEEN)</td>\n",
       "      <td>1</td>\n",
       "    </tr>\n",
       "    <tr>\n",
       "      <th>12</th>\n",
       "      <td>aespa</td>\n",
       "      <td>1</td>\n",
       "    </tr>\n",
       "    <tr>\n",
       "      <th>10</th>\n",
       "      <td>Red Velvet (레드벨벳)</td>\n",
       "      <td>1</td>\n",
       "    </tr>\n",
       "    <tr>\n",
       "      <th>0</th>\n",
       "      <td>(여자)아이들</td>\n",
       "      <td>1</td>\n",
       "    </tr>\n",
       "    <tr>\n",
       "      <th>6</th>\n",
       "      <td>LE SSERAFIM (르세라핌)</td>\n",
       "      <td>1</td>\n",
       "    </tr>\n",
       "    <tr>\n",
       "      <th>7</th>\n",
       "      <td>NMIXX</td>\n",
       "      <td>1</td>\n",
       "    </tr>\n",
       "    <tr>\n",
       "      <th>9</th>\n",
       "      <td>RIIZE</td>\n",
       "      <td>1</td>\n",
       "    </tr>\n",
       "    <tr>\n",
       "      <th>5</th>\n",
       "      <td>IVE (아이브)</td>\n",
       "      <td>1</td>\n",
       "    </tr>\n",
       "    <tr>\n",
       "      <th>16</th>\n",
       "      <td>투모로우바이투게더</td>\n",
       "      <td>1</td>\n",
       "    </tr>\n",
       "    <tr>\n",
       "      <th>15</th>\n",
       "      <td>태연 (TAEYEON)</td>\n",
       "      <td>2</td>\n",
       "    </tr>\n",
       "    <tr>\n",
       "      <th>4</th>\n",
       "      <td>ITZY (있지)</td>\n",
       "      <td>2</td>\n",
       "    </tr>\n",
       "    <tr>\n",
       "      <th>2</th>\n",
       "      <td>FIFTY FIFTY</td>\n",
       "      <td>7</td>\n",
       "    </tr>\n",
       "    <tr>\n",
       "      <th>3</th>\n",
       "      <td>H1-KEY (하이키)</td>\n",
       "      <td>7</td>\n",
       "    </tr>\n",
       "  </tbody>\n",
       "</table>\n",
       "</div>"
      ],
      "text/plain": [
       "                artist week\n",
       "1              Agust D    1\n",
       "8             NewJeans    1\n",
       "14                  정국    1\n",
       "11         STAYC(스테이씨)    1\n",
       "13     세븐틴 (SEVENTEEN)    1\n",
       "12               aespa    1\n",
       "10   Red Velvet (레드벨벳)    1\n",
       "0              (여자)아이들    1\n",
       "6   LE SSERAFIM (르세라핌)    1\n",
       "7                NMIXX    1\n",
       "9                RIIZE    1\n",
       "5            IVE (아이브)    1\n",
       "16           투모로우바이투게더    1\n",
       "15        태연 (TAEYEON)    2\n",
       "4            ITZY (있지)    2\n",
       "2          FIFTY FIFTY    7\n",
       "3         H1-KEY (하이키)    7"
      ]
     },
     "execution_count": 346,
     "metadata": {},
     "output_type": "execute_result"
    }
   ],
   "source": [
    "df_duration.drop(['duration'], axis=1, inplace=True)\n",
    "df_duration"
   ]
  },
  {
   "cell_type": "code",
   "execution_count": 354,
   "metadata": {},
   "outputs": [],
   "source": [
    "df_merge = df_merge.sort_values(by = 'week_y')"
   ]
  },
  {
   "cell_type": "markdown",
   "metadata": {},
   "source": [
    "# 3. 시각화"
   ]
  },
  {
   "cell_type": "code",
   "execution_count": 348,
   "metadata": {},
   "outputs": [],
   "source": [
    "\n",
    "import pandas as pd\n",
    "import re\n",
    "import pandas as pd\n",
    "import numpy as np\n",
    "import matplotlib.pyplot as plt\n",
    "import plotly.express as px\n",
    "import plotly.graph_objects as go\n",
    "import plotly.express as px\n",
    "import seaborn as sns"
   ]
  },
  {
   "cell_type": "code",
   "execution_count": 356,
   "metadata": {},
   "outputs": [
    {
     "data": {
      "application/vnd.plotly.v1+json": {
       "config": {
        "plotlyServerURL": "https://plot.ly"
       },
       "data": [
        {
         "hovertemplate": "artist=H1-KEY (하이키)<br>week_y=%{x}<br>rank=%{y}<extra></extra>",
         "legendgroup": "H1-KEY (하이키)",
         "line": {
          "color": "rgb(102, 197, 204)",
          "dash": "solid"
         },
         "marker": {
          "symbol": "circle"
         },
         "mode": "markers+lines",
         "name": "H1-KEY (하이키)",
         "orientation": "v",
         "showlegend": true,
         "type": "scatter",
         "x": [
          "2023.02.20 ~ 2023.02.26",
          "2023.02.27 ~ 2023.03.05",
          "2023.03.06 ~ 2023.03.12",
          "2023.03.13 ~ 2023.03.19",
          "2023.03.20 ~ 2023.03.26",
          "2023.04.03 ~ 2023.04.09",
          "2023.04.10 ~ 2023.04.16",
          "2023.04.17 ~ 2023.04.23",
          "2023.04.24 ~ 2023.04.30",
          "2023.05.01 ~ 2023.05.07",
          "2023.05.08 ~ 2023.05.14",
          "2023.05.15 ~ 2023.05.21",
          "2023.05.22 ~ 2023.05.28",
          "2023.05.29 ~ 2023.06.04",
          "2023.06.05 ~ 2023.06.11",
          "2023.06.12 ~ 2023.06.18",
          "2023.06.19 ~ 2023.06.25",
          "2023.07.03 ~ 2023.07.09",
          "2023.07.10 ~ 2023.07.16",
          "2023.07.17 ~ 2023.07.23",
          "2023.07.24 ~ 2023.07.30",
          "2023.07.31 ~ 2023.08.06",
          "2023.08.07 ~ 2023.08.13",
          "2023.08.14 ~ 2023.08.20",
          "2023.08.21 ~ 2023.08.27",
          "2023.09.04 ~ 2023.09.10",
          "2023.09.11 ~ 2023.09.17",
          "2023.09.18 ~ 2023.09.24",
          "2023.09.25 ~ 2023.10.01",
          "2023.10.02 ~ 2023.10.08",
          "2023.10.09 ~ 2023.10.15",
          "2023.10.16 ~ 2023.10.22",
          "2023.10.23 ~ 2023.10.29",
          "2023.10.30 ~ 2023.11.05",
          "2023.11.06 ~ 2023.11.12",
          "2023.11.13 ~ 2023.11.19",
          "2023.11.20 ~ 2023.11.26",
          "2023.12.04 ~ 2023.12.10",
          "2023.12.11 ~ 2023.12.17",
          "2023.12.18 ~ 2023.12.24",
          "2023.12.25 ~ 2023.12.31"
         ],
         "xaxis": "x",
         "y": [
          100,
          50,
          27,
          22,
          25,
          31,
          31,
          34,
          37,
          40,
          39,
          44,
          49,
          48,
          47,
          45,
          40,
          32,
          34,
          37,
          36,
          38,
          45,
          47,
          46,
          46,
          49,
          51,
          56,
          54,
          61,
          67,
          66,
          66,
          68,
          67,
          72,
          78,
          80,
          93,
          93
         ],
         "yaxis": "y"
        },
        {
         "hovertemplate": "artist=NMIXX<br>week_y=%{x}<br>rank=%{y}<extra></extra>",
         "legendgroup": "NMIXX",
         "line": {
          "color": "rgb(246, 207, 113)",
          "dash": "solid"
         },
         "marker": {
          "symbol": "circle"
         },
         "mode": "markers+lines",
         "name": "NMIXX",
         "orientation": "v",
         "showlegend": true,
         "type": "scatter",
         "x": [
          "2023.03.20 ~ 2023.03.26",
          "2023.04.03 ~ 2023.04.09",
          "2023.04.10 ~ 2023.04.16",
          "2023.04.17 ~ 2023.04.23",
          "2023.04.24 ~ 2023.04.30",
          "2023.05.01 ~ 2023.05.07",
          "2023.05.08 ~ 2023.05.14",
          "2023.05.15 ~ 2023.05.21",
          "2023.05.22 ~ 2023.05.28",
          "2023.05.29 ~ 2023.06.04",
          "2023.06.05 ~ 2023.06.11",
          "2023.06.12 ~ 2023.06.18",
          "2023.06.19 ~ 2023.06.25",
          "2023.07.03 ~ 2023.07.09",
          "2023.07.10 ~ 2023.07.16",
          "2023.07.17 ~ 2023.07.23",
          "2023.07.24 ~ 2023.07.30",
          "2023.07.31 ~ 2023.08.06"
         ],
         "xaxis": "x",
         "y": [
          92,
          15,
          8,
          10,
          17,
          26,
          29,
          36,
          39,
          44,
          53,
          57,
          65,
          70,
          77,
          90,
          99,
          100
         ],
         "yaxis": "y"
        },
        {
         "hovertemplate": "artist=Agust D<br>week_y=%{x}<br>rank=%{y}<extra></extra>",
         "legendgroup": "Agust D",
         "line": {
          "color": "rgb(248, 156, 116)",
          "dash": "solid"
         },
         "marker": {
          "symbol": "circle"
         },
         "mode": "markers+lines",
         "name": "Agust D",
         "orientation": "v",
         "showlegend": true,
         "type": "scatter",
         "x": [
          "2023.04.03 ~ 2023.04.09",
          "2023.04.10 ~ 2023.04.16",
          "2023.04.17 ~ 2023.04.23",
          "2023.04.24 ~ 2023.04.30",
          "2023.05.01 ~ 2023.05.07",
          "2023.05.08 ~ 2023.05.14",
          "2023.05.15 ~ 2023.05.21",
          "2023.05.22 ~ 2023.05.28",
          "2023.05.29 ~ 2023.06.04",
          "2023.06.05 ~ 2023.06.11",
          "2023.06.12 ~ 2023.06.18",
          "2023.06.19 ~ 2023.06.25",
          "2023.07.03 ~ 2023.07.09",
          "2023.07.10 ~ 2023.07.16",
          "2023.07.17 ~ 2023.07.23",
          "2023.07.24 ~ 2023.07.30",
          "2023.07.31 ~ 2023.08.06",
          "2023.08.07 ~ 2023.08.13",
          "2023.08.14 ~ 2023.08.20",
          "2023.08.21 ~ 2023.08.27",
          "2023.09.04 ~ 2023.09.10",
          "2023.09.11 ~ 2023.09.17",
          "2023.09.18 ~ 2023.09.24",
          "2023.09.25 ~ 2023.10.01",
          "2023.10.02 ~ 2023.10.08",
          "2023.10.09 ~ 2023.10.15",
          "2023.10.16 ~ 2023.10.22",
          "2023.10.23 ~ 2023.10.29",
          "2023.10.30 ~ 2023.11.05"
         ],
         "xaxis": "x",
         "y": [
          85,
          15,
          9,
          10,
          14,
          26,
          35,
          44,
          56,
          60,
          56,
          63,
          62,
          65,
          63,
          67,
          68,
          75,
          81,
          82,
          87,
          90,
          91,
          90,
          91,
          96,
          96,
          96,
          98
         ],
         "yaxis": "y"
        },
        {
         "hovertemplate": "artist=FIFTY FIFTY<br>week_y=%{x}<br>rank=%{y}<extra></extra>",
         "legendgroup": "FIFTY FIFTY",
         "line": {
          "color": "rgb(220, 176, 242)",
          "dash": "solid"
         },
         "marker": {
          "symbol": "circle"
         },
         "mode": "markers+lines",
         "name": "FIFTY FIFTY",
         "orientation": "v",
         "showlegend": true,
         "type": "scatter",
         "x": [
          "2023.04.10 ~ 2023.04.16",
          "2023.04.17 ~ 2023.04.23",
          "2023.04.24 ~ 2023.04.30",
          "2023.05.01 ~ 2023.05.07",
          "2023.05.08 ~ 2023.05.14",
          "2023.05.15 ~ 2023.05.21",
          "2023.05.22 ~ 2023.05.28",
          "2023.05.29 ~ 2023.06.04",
          "2023.06.05 ~ 2023.06.11",
          "2023.06.12 ~ 2023.06.18",
          "2023.06.19 ~ 2023.06.25",
          "2023.07.03 ~ 2023.07.09",
          "2023.07.10 ~ 2023.07.16",
          "2023.07.17 ~ 2023.07.23",
          "2023.07.24 ~ 2023.07.30",
          "2023.07.31 ~ 2023.08.06",
          "2023.08.07 ~ 2023.08.13",
          "2023.08.14 ~ 2023.08.20",
          "2023.08.21 ~ 2023.08.27",
          "2023.09.04 ~ 2023.09.10",
          "2023.09.11 ~ 2023.09.17",
          "2023.09.18 ~ 2023.09.24",
          "2023.09.25 ~ 2023.10.01",
          "2023.10.02 ~ 2023.10.08",
          "2023.10.09 ~ 2023.10.15"
         ],
         "xaxis": "x",
         "y": [
          70,
          32,
          24,
          24,
          19,
          16,
          13,
          11,
          12,
          12,
          12,
          12,
          15,
          19,
          24,
          27,
          34,
          41,
          48,
          56,
          63,
          69,
          75,
          81,
          93
         ],
         "yaxis": "y"
        },
        {
         "hovertemplate": "artist=세븐틴 (SEVENTEEN)<br>week_y=%{x}<br>rank=%{y}<extra></extra>",
         "legendgroup": "세븐틴 (SEVENTEEN)",
         "line": {
          "color": "rgb(135, 197, 95)",
          "dash": "solid"
         },
         "marker": {
          "symbol": "circle"
         },
         "mode": "markers+lines",
         "name": "세븐틴 (SEVENTEEN)",
         "orientation": "v",
         "showlegend": true,
         "type": "scatter",
         "x": [
          "2023.04.24 ~ 2023.04.30",
          "2023.05.01 ~ 2023.05.07",
          "2023.05.08 ~ 2023.05.14",
          "2023.05.15 ~ 2023.05.21",
          "2023.05.22 ~ 2023.05.28",
          "2023.05.29 ~ 2023.06.04",
          "2023.06.05 ~ 2023.06.11",
          "2023.06.12 ~ 2023.06.18",
          "2023.06.19 ~ 2023.06.25",
          "2023.07.03 ~ 2023.07.09",
          "2023.07.10 ~ 2023.07.16",
          "2023.07.17 ~ 2023.07.23",
          "2023.07.24 ~ 2023.07.30",
          "2023.07.31 ~ 2023.08.06",
          "2023.08.07 ~ 2023.08.13",
          "2023.08.14 ~ 2023.08.20",
          "2023.08.21 ~ 2023.08.27",
          "2023.09.04 ~ 2023.09.10",
          "2023.09.11 ~ 2023.09.17",
          "2023.09.18 ~ 2023.09.24",
          "2023.09.25 ~ 2023.10.01",
          "2023.10.02 ~ 2023.10.08",
          "2023.10.09 ~ 2023.10.15",
          "2023.10.16 ~ 2023.10.22",
          "2023.10.23 ~ 2023.10.29",
          "2023.10.30 ~ 2023.11.05",
          "2023.11.06 ~ 2023.11.12",
          "2023.11.13 ~ 2023.11.19",
          "2023.11.20 ~ 2023.11.26",
          "2023.12.04 ~ 2023.12.10",
          "2023.12.11 ~ 2023.12.17",
          "2023.12.18 ~ 2023.12.24",
          "2023.12.25 ~ 2023.12.31"
         ],
         "xaxis": "x",
         "y": [
          8,
          5,
          5,
          6,
          7,
          7,
          9,
          9,
          10,
          11,
          13,
          14,
          15,
          17,
          19,
          24,
          25,
          32,
          38,
          40,
          46,
          50,
          51,
          53,
          30,
          34,
          41,
          51,
          56,
          62,
          66,
          74,
          75
         ],
         "yaxis": "y"
        },
        {
         "hovertemplate": "artist=LE SSERAFIM (르세라핌)<br>week_y=%{x}<br>rank=%{y}<extra></extra>",
         "legendgroup": "LE SSERAFIM (르세라핌)",
         "line": {
          "color": "rgb(158, 185, 243)",
          "dash": "solid"
         },
         "marker": {
          "symbol": "circle"
         },
         "mode": "markers+lines",
         "name": "LE SSERAFIM (르세라핌)",
         "orientation": "v",
         "showlegend": true,
         "type": "scatter",
         "x": [
          "2023.05.01 ~ 2023.05.07",
          "2023.05.08 ~ 2023.05.14",
          "2023.05.15 ~ 2023.05.21",
          "2023.05.22 ~ 2023.05.28",
          "2023.05.29 ~ 2023.06.04",
          "2023.06.05 ~ 2023.06.11",
          "2023.06.12 ~ 2023.06.18",
          "2023.06.19 ~ 2023.06.25",
          "2023.07.03 ~ 2023.07.09",
          "2023.07.10 ~ 2023.07.16",
          "2023.07.17 ~ 2023.07.23",
          "2023.07.24 ~ 2023.07.30",
          "2023.07.31 ~ 2023.08.06",
          "2023.08.07 ~ 2023.08.13",
          "2023.08.14 ~ 2023.08.20",
          "2023.08.21 ~ 2023.08.27",
          "2023.09.04 ~ 2023.09.10",
          "2023.09.11 ~ 2023.09.17",
          "2023.09.18 ~ 2023.09.24",
          "2023.09.25 ~ 2023.10.01",
          "2023.10.02 ~ 2023.10.08",
          "2023.10.09 ~ 2023.10.15",
          "2023.10.16 ~ 2023.10.22",
          "2023.10.23 ~ 2023.10.29",
          "2023.10.30 ~ 2023.11.05",
          "2023.11.06 ~ 2023.11.12",
          "2023.11.13 ~ 2023.11.19",
          "2023.11.20 ~ 2023.11.26",
          "2023.12.04 ~ 2023.12.10",
          "2023.12.11 ~ 2023.12.17",
          "2023.12.18 ~ 2023.12.24",
          "2023.12.25 ~ 2023.12.31"
         ],
         "xaxis": "x",
         "y": [
          3,
          2,
          2,
          4,
          4,
          4,
          4,
          5,
          5,
          7,
          9,
          12,
          12,
          12,
          14,
          15,
          22,
          25,
          25,
          26,
          30,
          34,
          38,
          41,
          44,
          49,
          54,
          57,
          67,
          67,
          76,
          80
         ],
         "yaxis": "y"
        },
        {
         "hovertemplate": "artist=aespa<br>week_y=%{x}<br>rank=%{y}<extra></extra>",
         "legendgroup": "aespa",
         "line": {
          "color": "rgb(254, 136, 177)",
          "dash": "solid"
         },
         "marker": {
          "symbol": "circle"
         },
         "mode": "markers+lines",
         "name": "aespa",
         "orientation": "v",
         "showlegend": true,
         "type": "scatter",
         "x": [
          "2023.05.08 ~ 2023.05.14",
          "2023.05.15 ~ 2023.05.21",
          "2023.05.22 ~ 2023.05.28",
          "2023.05.29 ~ 2023.06.04",
          "2023.06.05 ~ 2023.06.11",
          "2023.06.12 ~ 2023.06.18",
          "2023.06.19 ~ 2023.06.25",
          "2023.07.03 ~ 2023.07.09",
          "2023.07.10 ~ 2023.07.16",
          "2023.07.17 ~ 2023.07.23",
          "2023.07.24 ~ 2023.07.30",
          "2023.07.31 ~ 2023.08.06",
          "2023.08.07 ~ 2023.08.13",
          "2023.08.14 ~ 2023.08.20",
          "2023.08.21 ~ 2023.08.27",
          "2023.09.04 ~ 2023.09.10",
          "2023.09.11 ~ 2023.09.17",
          "2023.09.18 ~ 2023.09.24",
          "2023.09.25 ~ 2023.10.01",
          "2023.10.02 ~ 2023.10.08",
          "2023.10.09 ~ 2023.10.15",
          "2023.10.16 ~ 2023.10.22",
          "2023.10.23 ~ 2023.10.29",
          "2023.10.30 ~ 2023.11.05",
          "2023.11.06 ~ 2023.11.12",
          "2023.11.13 ~ 2023.11.19",
          "2023.11.20 ~ 2023.11.26",
          "2023.12.04 ~ 2023.12.10",
          "2023.12.11 ~ 2023.12.17",
          "2023.12.18 ~ 2023.12.24",
          "2023.12.25 ~ 2023.12.31"
         ],
         "xaxis": "x",
         "y": [
          6,
          3,
          1,
          2,
          3,
          3,
          3,
          4,
          6,
          7,
          8,
          8,
          7,
          8,
          10,
          13,
          16,
          18,
          18,
          20,
          20,
          22,
          24,
          25,
          30,
          34,
          35,
          38,
          38,
          44,
          45
         ],
         "yaxis": "y"
        },
        {
         "hovertemplate": "artist=(여자)아이들<br>week_y=%{x}<br>rank=%{y}<extra></extra>",
         "legendgroup": "(여자)아이들",
         "line": {
          "color": "rgb(201, 219, 116)",
          "dash": "solid"
         },
         "marker": {
          "symbol": "circle"
         },
         "mode": "markers+lines",
         "name": "(여자)아이들",
         "orientation": "v",
         "showlegend": true,
         "type": "scatter",
         "x": [
          "2023.05.15 ~ 2023.05.21",
          "2023.05.22 ~ 2023.05.28",
          "2023.05.29 ~ 2023.06.04",
          "2023.06.05 ~ 2023.06.11",
          "2023.06.12 ~ 2023.06.18",
          "2023.06.19 ~ 2023.06.25",
          "2023.07.03 ~ 2023.07.09",
          "2023.07.10 ~ 2023.07.16",
          "2023.07.17 ~ 2023.07.23",
          "2023.07.24 ~ 2023.07.30",
          "2023.07.31 ~ 2023.08.06",
          "2023.08.07 ~ 2023.08.13",
          "2023.08.14 ~ 2023.08.20",
          "2023.08.21 ~ 2023.08.27",
          "2023.09.04 ~ 2023.09.10",
          "2023.09.11 ~ 2023.09.17",
          "2023.09.18 ~ 2023.09.24",
          "2023.09.25 ~ 2023.10.01",
          "2023.10.02 ~ 2023.10.08",
          "2023.10.09 ~ 2023.10.15",
          "2023.10.16 ~ 2023.10.22",
          "2023.10.23 ~ 2023.10.29",
          "2023.10.30 ~ 2023.11.05",
          "2023.11.06 ~ 2023.11.12",
          "2023.11.13 ~ 2023.11.19",
          "2023.11.20 ~ 2023.11.26",
          "2023.12.04 ~ 2023.12.10",
          "2023.12.11 ~ 2023.12.17",
          "2023.12.18 ~ 2023.12.24",
          "2023.12.25 ~ 2023.12.31"
         ],
         "xaxis": "x",
         "y": [
          5,
          2,
          1,
          1,
          1,
          1,
          1,
          2,
          2,
          4,
          4,
          4,
          4,
          5,
          10,
          11,
          13,
          12,
          13,
          15,
          16,
          18,
          17,
          17,
          19,
          17,
          25,
          29,
          33,
          26
         ],
         "yaxis": "y"
        },
        {
         "hovertemplate": "artist=NewJeans<br>week_y=%{x}<br>rank=%{y}<extra></extra>",
         "legendgroup": "NewJeans",
         "line": {
          "color": "rgb(139, 224, 164)",
          "dash": "solid"
         },
         "marker": {
          "symbol": "circle"
         },
         "mode": "markers+lines",
         "name": "NewJeans",
         "orientation": "v",
         "showlegend": true,
         "type": "scatter",
         "x": [
          "2023.07.03 ~ 2023.07.09",
          "2023.07.10 ~ 2023.07.16",
          "2023.07.17 ~ 2023.07.23",
          "2023.07.24 ~ 2023.07.30",
          "2023.07.31 ~ 2023.08.06",
          "2023.08.07 ~ 2023.08.13",
          "2023.08.14 ~ 2023.08.20",
          "2023.08.21 ~ 2023.08.27",
          "2023.09.04 ~ 2023.09.10",
          "2023.09.11 ~ 2023.09.17",
          "2023.09.18 ~ 2023.09.24",
          "2023.09.25 ~ 2023.10.01",
          "2023.10.02 ~ 2023.10.08",
          "2023.10.09 ~ 2023.10.15",
          "2023.10.16 ~ 2023.10.22",
          "2023.10.23 ~ 2023.10.29",
          "2023.10.30 ~ 2023.11.05",
          "2023.11.06 ~ 2023.11.12",
          "2023.11.13 ~ 2023.11.19",
          "2023.11.20 ~ 2023.11.26",
          "2023.12.04 ~ 2023.12.10",
          "2023.12.11 ~ 2023.12.17",
          "2023.12.18 ~ 2023.12.24",
          "2023.12.25 ~ 2023.12.31"
         ],
         "xaxis": "x",
         "y": [
          26,
          1,
          1,
          1,
          1,
          1,
          1,
          1,
          3,
          3,
          5,
          5,
          5,
          6,
          9,
          11,
          11,
          9,
          13,
          12,
          15,
          15,
          22,
          16
         ],
         "yaxis": "y"
        },
        {
         "hovertemplate": "artist=ITZY (있지)<br>week_y=%{x}<br>rank=%{y}<extra></extra>",
         "legendgroup": "ITZY (있지)",
         "line": {
          "color": "rgb(180, 151, 231)",
          "dash": "solid"
         },
         "marker": {
          "symbol": "circle"
         },
         "mode": "markers+lines",
         "name": "ITZY (있지)",
         "orientation": "v",
         "showlegend": true,
         "type": "scatter",
         "x": [
          "2023.08.07 ~ 2023.08.13",
          "2023.08.14 ~ 2023.08.20",
          "2023.08.21 ~ 2023.08.27",
          "2023.09.04 ~ 2023.09.10",
          "2023.09.11 ~ 2023.09.17",
          "2023.09.18 ~ 2023.09.24",
          "2023.09.25 ~ 2023.10.01",
          "2023.10.02 ~ 2023.10.08",
          "2023.10.09 ~ 2023.10.15",
          "2023.10.16 ~ 2023.10.22",
          "2023.10.23 ~ 2023.10.29",
          "2023.10.30 ~ 2023.11.05",
          "2023.11.06 ~ 2023.11.12",
          "2023.11.13 ~ 2023.11.19",
          "2023.11.20 ~ 2023.11.26"
         ],
         "xaxis": "x",
         "y": [
          83,
          45,
          29,
          21,
          22,
          22,
          24,
          25,
          30,
          34,
          44,
          52,
          61,
          74,
          86
         ],
         "yaxis": "y"
        },
        {
         "hovertemplate": "artist=STAYC(스테이씨)<br>week_y=%{x}<br>rank=%{y}<extra></extra>",
         "legendgroup": "STAYC(스테이씨)",
         "line": {
          "color": "rgb(179, 179, 179)",
          "dash": "solid"
         },
         "marker": {
          "symbol": "circle"
         },
         "mode": "markers+lines",
         "name": "STAYC(스테이씨)",
         "orientation": "v",
         "showlegend": true,
         "type": "scatter",
         "x": [
          "2023.08.14 ~ 2023.08.20",
          "2023.08.21 ~ 2023.08.27",
          "2023.09.04 ~ 2023.09.10",
          "2023.09.11 ~ 2023.09.17",
          "2023.09.18 ~ 2023.09.24",
          "2023.09.25 ~ 2023.10.01",
          "2023.10.02 ~ 2023.10.08",
          "2023.10.09 ~ 2023.10.15",
          "2023.10.16 ~ 2023.10.22",
          "2023.10.23 ~ 2023.10.29",
          "2023.10.30 ~ 2023.11.05",
          "2023.11.06 ~ 2023.11.12",
          "2023.11.13 ~ 2023.11.19",
          "2023.11.20 ~ 2023.11.26",
          "2023.12.04 ~ 2023.12.10",
          "2023.12.11 ~ 2023.12.17",
          "2023.12.18 ~ 2023.12.24",
          "2023.12.25 ~ 2023.12.31"
         ],
         "xaxis": "x",
         "y": [
          96,
          30,
          12,
          12,
          12,
          13,
          12,
          14,
          15,
          16,
          18,
          19,
          23,
          32,
          45,
          55,
          61,
          60
         ],
         "yaxis": "y"
        },
        {
         "hovertemplate": "artist=RIIZE<br>week_y=%{x}<br>rank=%{y}<extra></extra>",
         "legendgroup": "RIIZE",
         "line": {
          "color": "rgb(102, 197, 204)",
          "dash": "solid"
         },
         "marker": {
          "symbol": "circle"
         },
         "mode": "markers+lines",
         "name": "RIIZE",
         "orientation": "v",
         "showlegend": true,
         "type": "scatter",
         "x": [
          "2023.09.11 ~ 2023.09.17",
          "2023.09.18 ~ 2023.09.24",
          "2023.09.25 ~ 2023.10.01",
          "2023.10.02 ~ 2023.10.08",
          "2023.10.09 ~ 2023.10.15",
          "2023.10.16 ~ 2023.10.22",
          "2023.10.23 ~ 2023.10.29",
          "2023.10.30 ~ 2023.11.05",
          "2023.11.06 ~ 2023.11.12",
          "2023.11.13 ~ 2023.11.19",
          "2023.11.20 ~ 2023.11.26",
          "2023.12.04 ~ 2023.12.10",
          "2023.12.11 ~ 2023.12.17",
          "2023.12.18 ~ 2023.12.24",
          "2023.12.25 ~ 2023.12.31"
         ],
         "xaxis": "x",
         "y": [
          85,
          61,
          35,
          18,
          16,
          17,
          17,
          16,
          16,
          18,
          18,
          20,
          26,
          35,
          32
         ],
         "yaxis": "y"
        },
        {
         "hovertemplate": "artist=IVE (아이브)<br>week_y=%{x}<br>rank=%{y}<extra></extra>",
         "legendgroup": "IVE (아이브)",
         "line": {
          "color": "rgb(246, 207, 113)",
          "dash": "solid"
         },
         "marker": {
          "symbol": "circle"
         },
         "mode": "markers+lines",
         "name": "IVE (아이브)",
         "orientation": "v",
         "showlegend": true,
         "type": "scatter",
         "x": [
          "2023.10.16 ~ 2023.10.22",
          "2023.10.23 ~ 2023.10.29",
          "2023.10.30 ~ 2023.11.05",
          "2023.11.06 ~ 2023.11.12",
          "2023.11.13 ~ 2023.11.19",
          "2023.11.20 ~ 2023.11.26",
          "2023.12.04 ~ 2023.12.10",
          "2023.12.11 ~ 2023.12.17",
          "2023.12.18 ~ 2023.12.24",
          "2023.12.25 ~ 2023.12.31"
         ],
         "xaxis": "x",
         "y": [
          13,
          5,
          2,
          1,
          1,
          2,
          3,
          5,
          6,
          6
         ],
         "yaxis": "y"
        },
        {
         "hovertemplate": "artist=투모로우바이투게더<br>week_y=%{x}<br>rank=%{y}<extra></extra>",
         "legendgroup": "투모로우바이투게더",
         "line": {
          "color": "rgb(248, 156, 116)",
          "dash": "solid"
         },
         "marker": {
          "symbol": "circle"
         },
         "mode": "markers+lines",
         "name": "투모로우바이투게더",
         "orientation": "v",
         "showlegend": true,
         "type": "scatter",
         "x": [
          "2023.10.16 ~ 2023.10.22",
          "2023.10.23 ~ 2023.10.29"
         ],
         "xaxis": "x",
         "y": [
          91,
          94
         ],
         "yaxis": "y"
        },
        {
         "hovertemplate": "artist=정국<br>week_y=%{x}<br>rank=%{y}<extra></extra>",
         "legendgroup": "정국",
         "line": {
          "color": "rgb(220, 176, 242)",
          "dash": "solid"
         },
         "marker": {
          "symbol": "circle"
         },
         "mode": "markers+lines",
         "name": "정국",
         "orientation": "v",
         "showlegend": true,
         "type": "scatter",
         "x": [
          "2023.10.30 ~ 2023.11.05",
          "2023.11.06 ~ 2023.11.12",
          "2023.11.13 ~ 2023.11.19",
          "2023.11.20 ~ 2023.11.26",
          "2023.12.04 ~ 2023.12.10",
          "2023.12.11 ~ 2023.12.17",
          "2023.12.18 ~ 2023.12.24",
          "2023.12.25 ~ 2023.12.31"
         ],
         "xaxis": "x",
         "y": [
          95,
          23,
          16,
          15,
          19,
          24,
          29,
          27
         ],
         "yaxis": "y"
        },
        {
         "hovertemplate": "artist=Red Velvet (레드벨벳)<br>week_y=%{x}<br>rank=%{y}<extra></extra>",
         "legendgroup": "Red Velvet (레드벨벳)",
         "line": {
          "color": "rgb(135, 197, 95)",
          "dash": "solid"
         },
         "marker": {
          "symbol": "circle"
         },
         "mode": "markers+lines",
         "name": "Red Velvet (레드벨벳)",
         "orientation": "v",
         "showlegend": true,
         "type": "scatter",
         "x": [
          "2023.11.13 ~ 2023.11.19",
          "2023.11.20 ~ 2023.11.26",
          "2023.12.04 ~ 2023.12.10",
          "2023.12.11 ~ 2023.12.17",
          "2023.12.18 ~ 2023.12.24",
          "2023.12.25 ~ 2023.12.31"
         ],
         "xaxis": "x",
         "y": [
          26,
          24,
          23,
          32,
          38,
          48
         ],
         "yaxis": "y"
        },
        {
         "hovertemplate": "artist=태연 (TAEYEON)<br>week_y=%{x}<br>rank=%{y}<extra></extra>",
         "legendgroup": "태연 (TAEYEON)",
         "line": {
          "color": "rgb(158, 185, 243)",
          "dash": "solid"
         },
         "marker": {
          "symbol": "circle"
         },
         "mode": "markers+lines",
         "name": "태연 (TAEYEON)",
         "orientation": "v",
         "showlegend": true,
         "type": "scatter",
         "x": [
          "2023.12.04 ~ 2023.12.10",
          "2023.12.11 ~ 2023.12.17",
          "2023.12.18 ~ 2023.12.24",
          "2023.12.25 ~ 2023.12.31"
         ],
         "xaxis": "x",
         "y": [
          4,
          3,
          4,
          4
         ],
         "yaxis": "y"
        }
       ],
       "layout": {
        "annotations": [
         {
          "arrowcolor": "red",
          "arrowhead": 1,
          "font": {
           "color": "red"
          },
          "showarrow": true,
          "text": "다음 앨범 발매로 인한 순위 반등",
          "x": "2023.10.23 ~ 2023.10.29",
          "y": "30"
         }
        ],
        "height": 800,
        "legend": {
         "title": {
          "text": "artist"
         },
         "tracegroupgap": 0
        },
        "template": {
         "data": {
          "bar": [
           {
            "error_x": {
             "color": "#f2f5fa"
            },
            "error_y": {
             "color": "#f2f5fa"
            },
            "marker": {
             "line": {
              "color": "rgb(17,17,17)",
              "width": 0.5
             },
             "pattern": {
              "fillmode": "overlay",
              "size": 10,
              "solidity": 0.2
             }
            },
            "type": "bar"
           }
          ],
          "barpolar": [
           {
            "marker": {
             "line": {
              "color": "rgb(17,17,17)",
              "width": 0.5
             },
             "pattern": {
              "fillmode": "overlay",
              "size": 10,
              "solidity": 0.2
             }
            },
            "type": "barpolar"
           }
          ],
          "carpet": [
           {
            "aaxis": {
             "endlinecolor": "#A2B1C6",
             "gridcolor": "#506784",
             "linecolor": "#506784",
             "minorgridcolor": "#506784",
             "startlinecolor": "#A2B1C6"
            },
            "baxis": {
             "endlinecolor": "#A2B1C6",
             "gridcolor": "#506784",
             "linecolor": "#506784",
             "minorgridcolor": "#506784",
             "startlinecolor": "#A2B1C6"
            },
            "type": "carpet"
           }
          ],
          "choropleth": [
           {
            "colorbar": {
             "outlinewidth": 0,
             "ticks": ""
            },
            "type": "choropleth"
           }
          ],
          "contour": [
           {
            "colorbar": {
             "outlinewidth": 0,
             "ticks": ""
            },
            "colorscale": [
             [
              0,
              "#0d0887"
             ],
             [
              0.1111111111111111,
              "#46039f"
             ],
             [
              0.2222222222222222,
              "#7201a8"
             ],
             [
              0.3333333333333333,
              "#9c179e"
             ],
             [
              0.4444444444444444,
              "#bd3786"
             ],
             [
              0.5555555555555556,
              "#d8576b"
             ],
             [
              0.6666666666666666,
              "#ed7953"
             ],
             [
              0.7777777777777778,
              "#fb9f3a"
             ],
             [
              0.8888888888888888,
              "#fdca26"
             ],
             [
              1,
              "#f0f921"
             ]
            ],
            "type": "contour"
           }
          ],
          "contourcarpet": [
           {
            "colorbar": {
             "outlinewidth": 0,
             "ticks": ""
            },
            "type": "contourcarpet"
           }
          ],
          "heatmap": [
           {
            "colorbar": {
             "outlinewidth": 0,
             "ticks": ""
            },
            "colorscale": [
             [
              0,
              "#0d0887"
             ],
             [
              0.1111111111111111,
              "#46039f"
             ],
             [
              0.2222222222222222,
              "#7201a8"
             ],
             [
              0.3333333333333333,
              "#9c179e"
             ],
             [
              0.4444444444444444,
              "#bd3786"
             ],
             [
              0.5555555555555556,
              "#d8576b"
             ],
             [
              0.6666666666666666,
              "#ed7953"
             ],
             [
              0.7777777777777778,
              "#fb9f3a"
             ],
             [
              0.8888888888888888,
              "#fdca26"
             ],
             [
              1,
              "#f0f921"
             ]
            ],
            "type": "heatmap"
           }
          ],
          "heatmapgl": [
           {
            "colorbar": {
             "outlinewidth": 0,
             "ticks": ""
            },
            "colorscale": [
             [
              0,
              "#0d0887"
             ],
             [
              0.1111111111111111,
              "#46039f"
             ],
             [
              0.2222222222222222,
              "#7201a8"
             ],
             [
              0.3333333333333333,
              "#9c179e"
             ],
             [
              0.4444444444444444,
              "#bd3786"
             ],
             [
              0.5555555555555556,
              "#d8576b"
             ],
             [
              0.6666666666666666,
              "#ed7953"
             ],
             [
              0.7777777777777778,
              "#fb9f3a"
             ],
             [
              0.8888888888888888,
              "#fdca26"
             ],
             [
              1,
              "#f0f921"
             ]
            ],
            "type": "heatmapgl"
           }
          ],
          "histogram": [
           {
            "marker": {
             "pattern": {
              "fillmode": "overlay",
              "size": 10,
              "solidity": 0.2
             }
            },
            "type": "histogram"
           }
          ],
          "histogram2d": [
           {
            "colorbar": {
             "outlinewidth": 0,
             "ticks": ""
            },
            "colorscale": [
             [
              0,
              "#0d0887"
             ],
             [
              0.1111111111111111,
              "#46039f"
             ],
             [
              0.2222222222222222,
              "#7201a8"
             ],
             [
              0.3333333333333333,
              "#9c179e"
             ],
             [
              0.4444444444444444,
              "#bd3786"
             ],
             [
              0.5555555555555556,
              "#d8576b"
             ],
             [
              0.6666666666666666,
              "#ed7953"
             ],
             [
              0.7777777777777778,
              "#fb9f3a"
             ],
             [
              0.8888888888888888,
              "#fdca26"
             ],
             [
              1,
              "#f0f921"
             ]
            ],
            "type": "histogram2d"
           }
          ],
          "histogram2dcontour": [
           {
            "colorbar": {
             "outlinewidth": 0,
             "ticks": ""
            },
            "colorscale": [
             [
              0,
              "#0d0887"
             ],
             [
              0.1111111111111111,
              "#46039f"
             ],
             [
              0.2222222222222222,
              "#7201a8"
             ],
             [
              0.3333333333333333,
              "#9c179e"
             ],
             [
              0.4444444444444444,
              "#bd3786"
             ],
             [
              0.5555555555555556,
              "#d8576b"
             ],
             [
              0.6666666666666666,
              "#ed7953"
             ],
             [
              0.7777777777777778,
              "#fb9f3a"
             ],
             [
              0.8888888888888888,
              "#fdca26"
             ],
             [
              1,
              "#f0f921"
             ]
            ],
            "type": "histogram2dcontour"
           }
          ],
          "mesh3d": [
           {
            "colorbar": {
             "outlinewidth": 0,
             "ticks": ""
            },
            "type": "mesh3d"
           }
          ],
          "parcoords": [
           {
            "line": {
             "colorbar": {
              "outlinewidth": 0,
              "ticks": ""
             }
            },
            "type": "parcoords"
           }
          ],
          "pie": [
           {
            "automargin": true,
            "type": "pie"
           }
          ],
          "scatter": [
           {
            "marker": {
             "line": {
              "color": "#283442"
             }
            },
            "type": "scatter"
           }
          ],
          "scatter3d": [
           {
            "line": {
             "colorbar": {
              "outlinewidth": 0,
              "ticks": ""
             }
            },
            "marker": {
             "colorbar": {
              "outlinewidth": 0,
              "ticks": ""
             }
            },
            "type": "scatter3d"
           }
          ],
          "scattercarpet": [
           {
            "marker": {
             "colorbar": {
              "outlinewidth": 0,
              "ticks": ""
             }
            },
            "type": "scattercarpet"
           }
          ],
          "scattergeo": [
           {
            "marker": {
             "colorbar": {
              "outlinewidth": 0,
              "ticks": ""
             }
            },
            "type": "scattergeo"
           }
          ],
          "scattergl": [
           {
            "marker": {
             "line": {
              "color": "#283442"
             }
            },
            "type": "scattergl"
           }
          ],
          "scattermapbox": [
           {
            "marker": {
             "colorbar": {
              "outlinewidth": 0,
              "ticks": ""
             }
            },
            "type": "scattermapbox"
           }
          ],
          "scatterpolar": [
           {
            "marker": {
             "colorbar": {
              "outlinewidth": 0,
              "ticks": ""
             }
            },
            "type": "scatterpolar"
           }
          ],
          "scatterpolargl": [
           {
            "marker": {
             "colorbar": {
              "outlinewidth": 0,
              "ticks": ""
             }
            },
            "type": "scatterpolargl"
           }
          ],
          "scatterternary": [
           {
            "marker": {
             "colorbar": {
              "outlinewidth": 0,
              "ticks": ""
             }
            },
            "type": "scatterternary"
           }
          ],
          "surface": [
           {
            "colorbar": {
             "outlinewidth": 0,
             "ticks": ""
            },
            "colorscale": [
             [
              0,
              "#0d0887"
             ],
             [
              0.1111111111111111,
              "#46039f"
             ],
             [
              0.2222222222222222,
              "#7201a8"
             ],
             [
              0.3333333333333333,
              "#9c179e"
             ],
             [
              0.4444444444444444,
              "#bd3786"
             ],
             [
              0.5555555555555556,
              "#d8576b"
             ],
             [
              0.6666666666666666,
              "#ed7953"
             ],
             [
              0.7777777777777778,
              "#fb9f3a"
             ],
             [
              0.8888888888888888,
              "#fdca26"
             ],
             [
              1,
              "#f0f921"
             ]
            ],
            "type": "surface"
           }
          ],
          "table": [
           {
            "cells": {
             "fill": {
              "color": "#506784"
             },
             "line": {
              "color": "rgb(17,17,17)"
             }
            },
            "header": {
             "fill": {
              "color": "#2a3f5f"
             },
             "line": {
              "color": "rgb(17,17,17)"
             }
            },
            "type": "table"
           }
          ]
         },
         "layout": {
          "annotationdefaults": {
           "arrowcolor": "#f2f5fa",
           "arrowhead": 0,
           "arrowwidth": 1
          },
          "autotypenumbers": "strict",
          "coloraxis": {
           "colorbar": {
            "outlinewidth": 0,
            "ticks": ""
           }
          },
          "colorscale": {
           "diverging": [
            [
             0,
             "#8e0152"
            ],
            [
             0.1,
             "#c51b7d"
            ],
            [
             0.2,
             "#de77ae"
            ],
            [
             0.3,
             "#f1b6da"
            ],
            [
             0.4,
             "#fde0ef"
            ],
            [
             0.5,
             "#f7f7f7"
            ],
            [
             0.6,
             "#e6f5d0"
            ],
            [
             0.7,
             "#b8e186"
            ],
            [
             0.8,
             "#7fbc41"
            ],
            [
             0.9,
             "#4d9221"
            ],
            [
             1,
             "#276419"
            ]
           ],
           "sequential": [
            [
             0,
             "#0d0887"
            ],
            [
             0.1111111111111111,
             "#46039f"
            ],
            [
             0.2222222222222222,
             "#7201a8"
            ],
            [
             0.3333333333333333,
             "#9c179e"
            ],
            [
             0.4444444444444444,
             "#bd3786"
            ],
            [
             0.5555555555555556,
             "#d8576b"
            ],
            [
             0.6666666666666666,
             "#ed7953"
            ],
            [
             0.7777777777777778,
             "#fb9f3a"
            ],
            [
             0.8888888888888888,
             "#fdca26"
            ],
            [
             1,
             "#f0f921"
            ]
           ],
           "sequentialminus": [
            [
             0,
             "#0d0887"
            ],
            [
             0.1111111111111111,
             "#46039f"
            ],
            [
             0.2222222222222222,
             "#7201a8"
            ],
            [
             0.3333333333333333,
             "#9c179e"
            ],
            [
             0.4444444444444444,
             "#bd3786"
            ],
            [
             0.5555555555555556,
             "#d8576b"
            ],
            [
             0.6666666666666666,
             "#ed7953"
            ],
            [
             0.7777777777777778,
             "#fb9f3a"
            ],
            [
             0.8888888888888888,
             "#fdca26"
            ],
            [
             1,
             "#f0f921"
            ]
           ]
          },
          "colorway": [
           "#636efa",
           "#EF553B",
           "#00cc96",
           "#ab63fa",
           "#FFA15A",
           "#19d3f3",
           "#FF6692",
           "#B6E880",
           "#FF97FF",
           "#FECB52"
          ],
          "font": {
           "color": "#f2f5fa"
          },
          "geo": {
           "bgcolor": "rgb(17,17,17)",
           "lakecolor": "rgb(17,17,17)",
           "landcolor": "rgb(17,17,17)",
           "showlakes": true,
           "showland": true,
           "subunitcolor": "#506784"
          },
          "hoverlabel": {
           "align": "left"
          },
          "hovermode": "closest",
          "mapbox": {
           "style": "dark"
          },
          "paper_bgcolor": "rgb(17,17,17)",
          "plot_bgcolor": "rgb(17,17,17)",
          "polar": {
           "angularaxis": {
            "gridcolor": "#506784",
            "linecolor": "#506784",
            "ticks": ""
           },
           "bgcolor": "rgb(17,17,17)",
           "radialaxis": {
            "gridcolor": "#506784",
            "linecolor": "#506784",
            "ticks": ""
           }
          },
          "scene": {
           "xaxis": {
            "backgroundcolor": "rgb(17,17,17)",
            "gridcolor": "#506784",
            "gridwidth": 2,
            "linecolor": "#506784",
            "showbackground": true,
            "ticks": "",
            "zerolinecolor": "#C8D4E3"
           },
           "yaxis": {
            "backgroundcolor": "rgb(17,17,17)",
            "gridcolor": "#506784",
            "gridwidth": 2,
            "linecolor": "#506784",
            "showbackground": true,
            "ticks": "",
            "zerolinecolor": "#C8D4E3"
           },
           "zaxis": {
            "backgroundcolor": "rgb(17,17,17)",
            "gridcolor": "#506784",
            "gridwidth": 2,
            "linecolor": "#506784",
            "showbackground": true,
            "ticks": "",
            "zerolinecolor": "#C8D4E3"
           }
          },
          "shapedefaults": {
           "line": {
            "color": "#f2f5fa"
           }
          },
          "sliderdefaults": {
           "bgcolor": "#C8D4E3",
           "bordercolor": "rgb(17,17,17)",
           "borderwidth": 1,
           "tickwidth": 0
          },
          "ternary": {
           "aaxis": {
            "gridcolor": "#506784",
            "linecolor": "#506784",
            "ticks": ""
           },
           "baxis": {
            "gridcolor": "#506784",
            "linecolor": "#506784",
            "ticks": ""
           },
           "bgcolor": "rgb(17,17,17)",
           "caxis": {
            "gridcolor": "#506784",
            "linecolor": "#506784",
            "ticks": ""
           }
          },
          "title": {
           "x": 0.05
          },
          "updatemenudefaults": {
           "bgcolor": "#506784",
           "borderwidth": 0
          },
          "xaxis": {
           "automargin": true,
           "gridcolor": "#283442",
           "linecolor": "#506784",
           "ticks": "",
           "title": {
            "standoff": 15
           },
           "zerolinecolor": "#283442",
           "zerolinewidth": 2
          },
          "yaxis": {
           "automargin": true,
           "gridcolor": "#283442",
           "linecolor": "#506784",
           "ticks": "",
           "title": {
            "standoff": 15
           },
           "zerolinecolor": "#283442",
           "zerolinewidth": 2
          }
         }
        },
        "title": {
         "font": {
          "size": 16
         },
         "text": "[컴백 후 주차별 랭크 추이]",
         "x": 0.5,
         "xanchor": "center",
         "y": 0.9,
         "yanchor": "middle"
        },
        "width": 1000,
        "xaxis": {
         "anchor": "y",
         "domain": [
          0,
          1
         ],
         "title": {
          "text": ""
         }
        },
        "yaxis": {
         "anchor": "x",
         "autorange": "reversed",
         "domain": [
          0,
          1
         ],
         "title": {
          "text": "rank"
         }
        }
       }
      }
     },
     "metadata": {},
     "output_type": "display_data"
    }
   ],
   "source": [
    "fig = px.line(data_frame = df_merge\n",
    "            ,x='week_y', y='rank', color = 'artist'\n",
    "            ,markers=True\n",
    "            ,color_discrete_sequence= px.colors.qualitative.Pastel\n",
    "            ,width=1000, height=800\n",
    "            ,title=\"[컴백 후 주차별 랭크 추이]\")\n",
    "           \n",
    "            \n",
    "\n",
    "fig.update_layout(\n",
    "                 title_x = 0.5,\n",
    "                 title_y = 0.9,\n",
    "                 title_xanchor = \"center\",\n",
    "                 title_yanchor = \"middle\",\n",
    "                 # 폰트 스타일 추가 부분\n",
    "                 title_font_size = 16,\n",
    "                 template='plotly_dark')\n",
    "\n",
    "fig.update_xaxes(title_text='')\n",
    "fig.update_yaxes(autorange=\"reversed\") #y축을 역으로 해서 1위가 상단, 100위가 하단으로 향하게\n",
    "\n",
    "fig.add_annotation( \n",
    "            x= '2023.10.23 ~ 2023.10.29' , y= '30',\n",
    "            text= \"다음 앨범 발매로 인한 순위 반등\",\n",
    "            showarrow=True,\n",
    "            arrowhead=1,\n",
    "            font_color = 'red',\n",
    "            arrowcolor= 'red')\n",
    "\n",
    "\n",
    "fig.show()\n",
    "\n"
   ]
  },
  {
   "cell_type": "code",
   "execution_count": 47,
   "metadata": {},
   "outputs": [],
   "source": [
    "df_2023 = df_2023.sort_values(by= 'week')\n",
    "df_2023.to_csv('/Users/yeon/Desktop/Portfolio/하이브/weekly_df.csv')"
   ]
  }
 ],
 "metadata": {
  "kernelspec": {
   "display_name": "web_scapping",
   "language": "python",
   "name": "python3"
  },
  "language_info": {
   "codemirror_mode": {
    "name": "ipython",
    "version": 3
   },
   "file_extension": ".py",
   "mimetype": "text/x-python",
   "name": "python",
   "nbconvert_exporter": "python",
   "pygments_lexer": "ipython3",
   "version": "3.8.17"
  }
 },
 "nbformat": 4,
 "nbformat_minor": 2
}
