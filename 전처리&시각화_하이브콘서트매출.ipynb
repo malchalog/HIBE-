{
 "cells": [
  {
   "cell_type": "code",
   "execution_count": 595,
   "metadata": {},
   "outputs": [
    {
     "data": {
      "text/html": [
       "<div>\n",
       "<style scoped>\n",
       "    .dataframe tbody tr th:only-of-type {\n",
       "        vertical-align: middle;\n",
       "    }\n",
       "\n",
       "    .dataframe tbody tr th {\n",
       "        vertical-align: top;\n",
       "    }\n",
       "\n",
       "    .dataframe thead th {\n",
       "        text-align: right;\n",
       "    }\n",
       "</style>\n",
       "<table border=\"1\" class=\"dataframe\">\n",
       "  <thead>\n",
       "    <tr style=\"text-align: right;\">\n",
       "      <th></th>\n",
       "      <th>Artist</th>\n",
       "      <th>Date</th>\n",
       "      <th>Place</th>\n",
       "      <th>Price</th>\n",
       "      <th>Seats</th>\n",
       "    </tr>\n",
       "  </thead>\n",
       "  <tbody>\n",
       "    <tr>\n",
       "      <th>0</th>\n",
       "      <td>TXT FANLIVE: PRESENT X TOGETHER</td>\n",
       "      <td>2024.03.02(토) ~ 2024.03.03(일)</td>\n",
       "      <td>올림픽공원 SK핸드볼경기장(펜싱경기장)</td>\n",
       "      <td>전석 99,000원</td>\n",
       "      <td>5003석</td>\n",
       "    </tr>\n",
       "    <tr>\n",
       "      <th>1</th>\n",
       "      <td>ENHYPEN WORLD TOUR: FATE PLUS [서울]</td>\n",
       "      <td>2024.02.24 ~ 2024.02.25</td>\n",
       "      <td>올림픽공원 KSPO DOME(체조경기장)</td>\n",
       "      <td>VIP석 198,000원 M&amp;G석 198,000원 GENERAL석 154,000원</td>\n",
       "      <td>15000석</td>\n",
       "    </tr>\n",
       "    <tr>\n",
       "      <th>2</th>\n",
       "      <td>fromis_9 concert: FROM NOW.</td>\n",
       "      <td>2024.01.27(토) ~ 2024.01.28(일)</td>\n",
       "      <td>장충체육관</td>\n",
       "      <td>VIP석 198,000원,154,000원</td>\n",
       "      <td>4507석</td>\n",
       "    </tr>\n",
       "  </tbody>\n",
       "</table>\n",
       "</div>"
      ],
      "text/plain": [
       "                               Artist                           Date  \\\n",
       "0    TXT FANLIVE: PRESENT X TOGETHER   2024.03.02(토) ~ 2024.03.03(일)   \n",
       "1  ENHYPEN WORLD TOUR: FATE PLUS [서울]        2024.02.24 ~ 2024.02.25   \n",
       "2         fromis_9 concert: FROM NOW.  2024.01.27(토) ~ 2024.01.28(일)   \n",
       "\n",
       "                    Place                                          Price  \\\n",
       "0   올림픽공원 SK핸드볼경기장(펜싱경기장)                                     전석 99,000원   \n",
       "1  올림픽공원 KSPO DOME(체조경기장)  VIP석 198,000원\n",
       "M&G석 198,000원\n",
       "GENERAL석 154,000원   \n",
       "2                   장충체육관                         VIP석 198,000원,154,000원   \n",
       "\n",
       "    Seats  \n",
       "0   5003석  \n",
       "1  15000석  \n",
       "2   4507석  "
      ]
     },
     "execution_count": 595,
     "metadata": {},
     "output_type": "execute_result"
    }
   ],
   "source": [
    "\n",
    "import pandas as pd\n",
    "import re\n",
    "\n",
    "df = pd.read_csv('/Users/yeon/Downloads/hibe_concert_2023.csv')\n",
    "df.head(3)"
   ]
  },
  {
   "cell_type": "markdown",
   "metadata": {},
   "source": [
    "## artist컬럼 전처리"
   ]
  },
  {
   "cell_type": "code",
   "execution_count": 596,
   "metadata": {},
   "outputs": [
    {
     "data": {
      "text/html": [
       "<div>\n",
       "<style scoped>\n",
       "    .dataframe tbody tr th:only-of-type {\n",
       "        vertical-align: middle;\n",
       "    }\n",
       "\n",
       "    .dataframe tbody tr th {\n",
       "        vertical-align: top;\n",
       "    }\n",
       "\n",
       "    .dataframe thead th {\n",
       "        text-align: right;\n",
       "    }\n",
       "</style>\n",
       "<table border=\"1\" class=\"dataframe\">\n",
       "  <thead>\n",
       "    <tr style=\"text-align: right;\">\n",
       "      <th></th>\n",
       "      <th>Artist</th>\n",
       "      <th>Date</th>\n",
       "      <th>Place</th>\n",
       "      <th>Price</th>\n",
       "      <th>Seats</th>\n",
       "    </tr>\n",
       "  </thead>\n",
       "  <tbody>\n",
       "    <tr>\n",
       "      <th>0</th>\n",
       "      <td>TXT</td>\n",
       "      <td>2024.03.02(토) ~ 2024.03.03(일)</td>\n",
       "      <td>올림픽공원 SK핸드볼경기장(펜싱경기장)</td>\n",
       "      <td>전석 99,000원</td>\n",
       "      <td>5003석</td>\n",
       "    </tr>\n",
       "    <tr>\n",
       "      <th>1</th>\n",
       "      <td>ENHYPEN</td>\n",
       "      <td>2024.02.24 ~ 2024.02.25</td>\n",
       "      <td>올림픽공원 KSPO DOME(체조경기장)</td>\n",
       "      <td>VIP석 198,000원 M&amp;G석 198,000원 GENERAL석 154,000원</td>\n",
       "      <td>15000석</td>\n",
       "    </tr>\n",
       "    <tr>\n",
       "      <th>2</th>\n",
       "      <td>fromis_9</td>\n",
       "      <td>2024.01.27(토) ~ 2024.01.28(일)</td>\n",
       "      <td>장충체육관</td>\n",
       "      <td>VIP석 198,000원,154,000원</td>\n",
       "      <td>4507석</td>\n",
       "    </tr>\n",
       "  </tbody>\n",
       "</table>\n",
       "</div>"
      ],
      "text/plain": [
       "     Artist                           Date                   Place  \\\n",
       "0       TXT  2024.03.02(토) ~ 2024.03.03(일)   올림픽공원 SK핸드볼경기장(펜싱경기장)   \n",
       "1   ENHYPEN        2024.02.24 ~ 2024.02.25  올림픽공원 KSPO DOME(체조경기장)   \n",
       "2  fromis_9  2024.01.27(토) ~ 2024.01.28(일)                   장충체육관   \n",
       "\n",
       "                                           Price   Seats  \n",
       "0                                     전석 99,000원   5003석  \n",
       "1  VIP석 198,000원\n",
       "M&G석 198,000원\n",
       "GENERAL석 154,000원  15000석  \n",
       "2                         VIP석 198,000원,154,000원   4507석  "
      ]
     },
     "execution_count": 596,
     "metadata": {},
     "output_type": "execute_result"
    }
   ],
   "source": [
    "df[\"Artist\"] = df[\"Artist\"].str.split(\" \",expand=True)[0]\n",
    "df[\"Artist\"] = df[\"Artist\"].str.replace(',',' ')\n",
    "df.head(3)"
   ]
  },
  {
   "cell_type": "markdown",
   "metadata": {},
   "source": [
    "## Date컬럼 전처리"
   ]
  },
  {
   "cell_type": "markdown",
   "metadata": {},
   "source": [
    "### 2024.03.02(토) ~ 2024.03.03(일)형식에서 ~ 기준으로 분리하여 시작일자와 종료일자 컬럼 생성"
   ]
  },
  {
   "cell_type": "code",
   "execution_count": 597,
   "metadata": {},
   "outputs": [],
   "source": [
    "import re\n",
    "\n",
    "df= df[df[\"Date\"].str.contains('2023')]\n",
    "df['start_date'] = df[\"Date\"].str.split(\"~\",expand=True)[0]\n",
    "df['end_date'] = df[\"Date\"].str.split(\"~\",expand=True)[1]\n",
    "df['start_date'].replace(\"토\",'', regex=True, inplace=True)\n",
    "df['start_date']= df['start_date'].str.replace(pat=r'[^\\w]',repl=r' ',regex=True)\n",
    "df['end_date'].replace(\"일\",'', regex=True, inplace=True)\n",
    "df['end_date'] = df['end_date'].str.replace(pat=r'[^\\w]',repl=r' ',regex=True)\n"
   ]
  },
  {
   "cell_type": "markdown",
   "metadata": {},
   "source": [
    "### start_date 와 end_date의 날짜 형식으로 변환"
   ]
  },
  {
   "cell_type": "code",
   "execution_count": 598,
   "metadata": {},
   "outputs": [
    {
     "data": {
      "text/html": [
       "<div>\n",
       "<style scoped>\n",
       "    .dataframe tbody tr th:only-of-type {\n",
       "        vertical-align: middle;\n",
       "    }\n",
       "\n",
       "    .dataframe tbody tr th {\n",
       "        vertical-align: top;\n",
       "    }\n",
       "\n",
       "    .dataframe thead th {\n",
       "        text-align: right;\n",
       "    }\n",
       "</style>\n",
       "<table border=\"1\" class=\"dataframe\">\n",
       "  <thead>\n",
       "    <tr style=\"text-align: right;\">\n",
       "      <th></th>\n",
       "      <th>Artist</th>\n",
       "      <th>Date</th>\n",
       "      <th>Place</th>\n",
       "      <th>Price</th>\n",
       "      <th>Seats</th>\n",
       "      <th>start_date</th>\n",
       "      <th>end_date</th>\n",
       "    </tr>\n",
       "  </thead>\n",
       "  <tbody>\n",
       "    <tr>\n",
       "      <th>3</th>\n",
       "      <td>TOMORROWxTOGETHER</td>\n",
       "      <td>2023.12.02(토) ~ 2023.12.03(일)</td>\n",
       "      <td>고척스카이돔</td>\n",
       "      <td>VIP석 198,000원 일반석 154,000원</td>\n",
       "      <td>16744석</td>\n",
       "      <td>2023-12-02</td>\n",
       "      <td>2023 12 03</td>\n",
       "    </tr>\n",
       "  </tbody>\n",
       "</table>\n",
       "</div>"
      ],
      "text/plain": [
       "              Artist                           Date   Place  \\\n",
       "3  TOMORROWxTOGETHER  2023.12.02(토) ~ 2023.12.03(일)  고척스카이돔   \n",
       "\n",
       "                        Price   Seats start_date       end_date  \n",
       "3  VIP석 198,000원 일반석 154,000원  16744석 2023-12-02   2023 12 03    "
      ]
     },
     "execution_count": 598,
     "metadata": {},
     "output_type": "execute_result"
    }
   ],
   "source": [
    "df['start_date'] = pd.to_datetime(df['start_date'])\n",
    "df.head(1)"
   ]
  },
  {
   "cell_type": "code",
   "execution_count": 599,
   "metadata": {},
   "outputs": [],
   "source": [
    "df['end_date']= df['end_date'].str.strip() # 공백제거"
   ]
  },
  {
   "cell_type": "code",
   "execution_count": 600,
   "metadata": {},
   "outputs": [
    {
     "data": {
      "text/html": [
       "<div>\n",
       "<style scoped>\n",
       "    .dataframe tbody tr th:only-of-type {\n",
       "        vertical-align: middle;\n",
       "    }\n",
       "\n",
       "    .dataframe tbody tr th {\n",
       "        vertical-align: top;\n",
       "    }\n",
       "\n",
       "    .dataframe thead th {\n",
       "        text-align: right;\n",
       "    }\n",
       "</style>\n",
       "<table border=\"1\" class=\"dataframe\">\n",
       "  <thead>\n",
       "    <tr style=\"text-align: right;\">\n",
       "      <th></th>\n",
       "      <th>Artist</th>\n",
       "      <th>Date</th>\n",
       "      <th>Place</th>\n",
       "      <th>Price</th>\n",
       "      <th>Seats</th>\n",
       "      <th>start_date</th>\n",
       "      <th>end_date</th>\n",
       "      <th>Duration</th>\n",
       "    </tr>\n",
       "  </thead>\n",
       "  <tbody>\n",
       "    <tr>\n",
       "      <th>3</th>\n",
       "      <td>TOMORROWxTOGETHER</td>\n",
       "      <td>2023.12.02(토) ~ 2023.12.03(일)</td>\n",
       "      <td>고척스카이돔</td>\n",
       "      <td>VIP석 198,000원 일반석 154,000원</td>\n",
       "      <td>16744석</td>\n",
       "      <td>2023-12-02</td>\n",
       "      <td>2023-12-03</td>\n",
       "      <td>1 days</td>\n",
       "    </tr>\n",
       "  </tbody>\n",
       "</table>\n",
       "</div>"
      ],
      "text/plain": [
       "              Artist                           Date   Place  \\\n",
       "3  TOMORROWxTOGETHER  2023.12.02(토) ~ 2023.12.03(일)  고척스카이돔   \n",
       "\n",
       "                        Price   Seats start_date   end_date Duration  \n",
       "3  VIP석 198,000원 일반석 154,000원  16744석 2023-12-02 2023-12-03   1 days  "
      ]
     },
     "execution_count": 600,
     "metadata": {},
     "output_type": "execute_result"
    }
   ],
   "source": [
    "df['end_date']= pd.to_datetime(df['end_date'])\n",
    "df['Duration'] = df['end_date'] - df['start_date']\n",
    "df.head(1)"
   ]
  },
  {
   "cell_type": "markdown",
   "metadata": {},
   "source": [
    "### 기간 차이 1일 경우 이틀 공연, 2일 경우 3일 공연임을 나타내기 위해 duration 컬럼 생성"
   ]
  },
  {
   "cell_type": "code",
   "execution_count": 601,
   "metadata": {},
   "outputs": [],
   "source": [
    "df.loc[df['Duration'] == '1 Days', 'duration'] = '2'\n",
    "df.loc[df['Duration'] == '2 Days', 'duration'] = '3'"
   ]
  },
  {
   "cell_type": "code",
   "execution_count": 602,
   "metadata": {},
   "outputs": [
    {
     "data": {
      "text/html": [
       "<div>\n",
       "<style scoped>\n",
       "    .dataframe tbody tr th:only-of-type {\n",
       "        vertical-align: middle;\n",
       "    }\n",
       "\n",
       "    .dataframe tbody tr th {\n",
       "        vertical-align: top;\n",
       "    }\n",
       "\n",
       "    .dataframe thead th {\n",
       "        text-align: right;\n",
       "    }\n",
       "</style>\n",
       "<table border=\"1\" class=\"dataframe\">\n",
       "  <thead>\n",
       "    <tr style=\"text-align: right;\">\n",
       "      <th></th>\n",
       "      <th>Artist</th>\n",
       "      <th>Place</th>\n",
       "      <th>Price</th>\n",
       "      <th>Seats</th>\n",
       "      <th>start_date</th>\n",
       "      <th>end_date</th>\n",
       "      <th>duration</th>\n",
       "    </tr>\n",
       "  </thead>\n",
       "  <tbody>\n",
       "    <tr>\n",
       "      <th>3</th>\n",
       "      <td>TOMORROWxTOGETHER</td>\n",
       "      <td>고척스카이돔</td>\n",
       "      <td>VIP석 198,000원 일반석 154,000원</td>\n",
       "      <td>16744석</td>\n",
       "      <td>2023-12-02</td>\n",
       "      <td>2023-12-03</td>\n",
       "      <td>2</td>\n",
       "    </tr>\n",
       "    <tr>\n",
       "      <th>4</th>\n",
       "      <td>LESSERAFIM</td>\n",
       "      <td>잠실종합운동장 실내체육관</td>\n",
       "      <td>VIP석 198,000원,일반석 154,000원</td>\n",
       "      <td>11032석</td>\n",
       "      <td>2023-08-12</td>\n",
       "      <td>2023-08-13</td>\n",
       "      <td>2</td>\n",
       "    </tr>\n",
       "    <tr>\n",
       "      <th>5</th>\n",
       "      <td>SUGA</td>\n",
       "      <td>올림픽공원 KSPO DOME(체조경기장)</td>\n",
       "      <td>VIP석 220,000원165,000</td>\n",
       "      <td>15000석</td>\n",
       "      <td>2023-08-04</td>\n",
       "      <td>2023-08-06</td>\n",
       "      <td>3</td>\n",
       "    </tr>\n",
       "  </tbody>\n",
       "</table>\n",
       "</div>"
      ],
      "text/plain": [
       "              Artist                   Place                       Price  \\\n",
       "3  TOMORROWxTOGETHER                  고척스카이돔  VIP석 198,000원 일반석 154,000원   \n",
       "4         LESSERAFIM           잠실종합운동장 실내체육관  VIP석 198,000원,일반석 154,000원   \n",
       "5              SUGA   올림픽공원 KSPO DOME(체조경기장)        VIP석 220,000원165,000   \n",
       "\n",
       "    Seats start_date   end_date duration  \n",
       "3  16744석 2023-12-02 2023-12-03        2  \n",
       "4  11032석 2023-08-12 2023-08-13        2  \n",
       "5  15000석 2023-08-04 2023-08-06        3  "
      ]
     },
     "execution_count": 602,
     "metadata": {},
     "output_type": "execute_result"
    }
   ],
   "source": [
    "df.drop(['Date','Duration'],axis=1,inplace=True)\n",
    "df.head(3)"
   ]
  },
  {
   "cell_type": "markdown",
   "metadata": {},
   "source": [
    "## Seats컬럼 전처리"
   ]
  },
  {
   "cell_type": "code",
   "execution_count": 603,
   "metadata": {},
   "outputs": [
    {
     "data": {
      "text/html": [
       "<div>\n",
       "<style scoped>\n",
       "    .dataframe tbody tr th:only-of-type {\n",
       "        vertical-align: middle;\n",
       "    }\n",
       "\n",
       "    .dataframe tbody tr th {\n",
       "        vertical-align: top;\n",
       "    }\n",
       "\n",
       "    .dataframe thead th {\n",
       "        text-align: right;\n",
       "    }\n",
       "</style>\n",
       "<table border=\"1\" class=\"dataframe\">\n",
       "  <thead>\n",
       "    <tr style=\"text-align: right;\">\n",
       "      <th></th>\n",
       "      <th>Artist</th>\n",
       "      <th>Place</th>\n",
       "      <th>Price</th>\n",
       "      <th>Seats</th>\n",
       "      <th>start_date</th>\n",
       "      <th>end_date</th>\n",
       "      <th>duration</th>\n",
       "    </tr>\n",
       "  </thead>\n",
       "  <tbody>\n",
       "    <tr>\n",
       "      <th>3</th>\n",
       "      <td>TOMORROWxTOGETHER</td>\n",
       "      <td>고척스카이돔</td>\n",
       "      <td>VIP석 198,000원 일반석 154,000원</td>\n",
       "      <td>16744</td>\n",
       "      <td>2023-12-02</td>\n",
       "      <td>2023-12-03</td>\n",
       "      <td>2</td>\n",
       "    </tr>\n",
       "  </tbody>\n",
       "</table>\n",
       "</div>"
      ],
      "text/plain": [
       "              Artist   Place                       Price  Seats start_date  \\\n",
       "3  TOMORROWxTOGETHER  고척스카이돔  VIP석 198,000원 일반석 154,000원  16744 2023-12-02   \n",
       "\n",
       "    end_date duration  \n",
       "3 2023-12-03        2  "
      ]
     },
     "execution_count": 603,
     "metadata": {},
     "output_type": "execute_result"
    }
   ],
   "source": [
    "df['Seats']= df['Seats'].str.replace('석','')\n",
    "df.head(1)"
   ]
  },
  {
   "cell_type": "markdown",
   "metadata": {},
   "source": [
    "## Price컬럼 전처리"
   ]
  },
  {
   "cell_type": "markdown",
   "metadata": {},
   "source": [
    "### 원을 기준으로 구분하고, VIP와 일반석 가격 컬럼 생성하기"
   ]
  },
  {
   "cell_type": "code",
   "execution_count": 605,
   "metadata": {},
   "outputs": [
    {
     "data": {
      "text/html": [
       "<div>\n",
       "<style scoped>\n",
       "    .dataframe tbody tr th:only-of-type {\n",
       "        vertical-align: middle;\n",
       "    }\n",
       "\n",
       "    .dataframe tbody tr th {\n",
       "        vertical-align: top;\n",
       "    }\n",
       "\n",
       "    .dataframe thead th {\n",
       "        text-align: right;\n",
       "    }\n",
       "</style>\n",
       "<table border=\"1\" class=\"dataframe\">\n",
       "  <thead>\n",
       "    <tr style=\"text-align: right;\">\n",
       "      <th></th>\n",
       "      <th>Artist</th>\n",
       "      <th>Place</th>\n",
       "      <th>Price</th>\n",
       "      <th>Seats</th>\n",
       "      <th>start_date</th>\n",
       "      <th>end_date</th>\n",
       "      <th>duration</th>\n",
       "      <th>vip_price</th>\n",
       "      <th>standard_Price</th>\n",
       "      <th>basic_Price</th>\n",
       "    </tr>\n",
       "  </thead>\n",
       "  <tbody>\n",
       "    <tr>\n",
       "      <th>3</th>\n",
       "      <td>TOMORROWxTOGETHER</td>\n",
       "      <td>고척스카이돔</td>\n",
       "      <td>VIP석 198,000원 일반석 154,000원</td>\n",
       "      <td>16744</td>\n",
       "      <td>2023-12-02</td>\n",
       "      <td>2023-12-03</td>\n",
       "      <td>2</td>\n",
       "      <td>VIP석 198,000</td>\n",
       "      <td>일반석 154,000</td>\n",
       "      <td></td>\n",
       "    </tr>\n",
       "    <tr>\n",
       "      <th>4</th>\n",
       "      <td>LESSERAFIM</td>\n",
       "      <td>잠실종합운동장 실내체육관</td>\n",
       "      <td>VIP석 198,000원,일반석 154,000원</td>\n",
       "      <td>11032</td>\n",
       "      <td>2023-08-12</td>\n",
       "      <td>2023-08-13</td>\n",
       "      <td>2</td>\n",
       "      <td>VIP석 198,000</td>\n",
       "      <td>,일반석 154,000</td>\n",
       "      <td></td>\n",
       "    </tr>\n",
       "    <tr>\n",
       "      <th>5</th>\n",
       "      <td>SUGA</td>\n",
       "      <td>올림픽공원 KSPO DOME(체조경기장)</td>\n",
       "      <td>VIP석 220,000원165,000</td>\n",
       "      <td>15000</td>\n",
       "      <td>2023-08-04</td>\n",
       "      <td>2023-08-06</td>\n",
       "      <td>3</td>\n",
       "      <td>VIP석 220,000</td>\n",
       "      <td>165,000</td>\n",
       "      <td>None</td>\n",
       "    </tr>\n",
       "  </tbody>\n",
       "</table>\n",
       "</div>"
      ],
      "text/plain": [
       "              Artist                   Place                       Price  \\\n",
       "3  TOMORROWxTOGETHER                  고척스카이돔  VIP석 198,000원 일반석 154,000원   \n",
       "4         LESSERAFIM           잠실종합운동장 실내체육관  VIP석 198,000원,일반석 154,000원   \n",
       "5              SUGA   올림픽공원 KSPO DOME(체조경기장)        VIP석 220,000원165,000   \n",
       "\n",
       "   Seats start_date   end_date duration     vip_price standard_Price  \\\n",
       "3  16744 2023-12-02 2023-12-03        2  VIP석 198,000    일반석 154,000   \n",
       "4  11032 2023-08-12 2023-08-13        2  VIP석 198,000   ,일반석 154,000   \n",
       "5  15000 2023-08-04 2023-08-06        3  VIP석 220,000        165,000   \n",
       "\n",
       "  basic_Price  \n",
       "3              \n",
       "4              \n",
       "5        None  "
      ]
     },
     "execution_count": 605,
     "metadata": {},
     "output_type": "execute_result"
    }
   ],
   "source": [
    "df['vip_price'] = df[\"Price\"].str.split(\"원\",expand=True)[0]\n",
    "df['standard_Price'] = df[\"Price\"].str.split(\"원\",expand=True)[1]\n",
    "df['basic_Price'] = df[\"Price\"].str.split(\"원\",expand=True)[2]\n",
    "df.head(3)"
   ]
  },
  {
   "cell_type": "code",
   "execution_count": 606,
   "metadata": {},
   "outputs": [],
   "source": [
    "df['vip_price'] = df['vip_price'].str.extract(r'(\\d+)')\n",
    "df['standard_Price']= df['standard_Price'].str.extract(r'(\\d+)')\n",
    "df['basic_Price']= df['basic_Price'].str.extract(r'(\\d+)')"
   ]
  },
  {
   "cell_type": "code",
   "execution_count": 607,
   "metadata": {},
   "outputs": [],
   "source": [
    "df_temp = df[['vip_price','standard_Price','basic_Price']]\n",
    "df_temp = df_temp.astype(float)"
   ]
  },
  {
   "cell_type": "code",
   "execution_count": 687,
   "metadata": {},
   "outputs": [
    {
     "data": {
      "text/html": [
       "<div>\n",
       "<style scoped>\n",
       "    .dataframe tbody tr th:only-of-type {\n",
       "        vertical-align: middle;\n",
       "    }\n",
       "\n",
       "    .dataframe tbody tr th {\n",
       "        vertical-align: top;\n",
       "    }\n",
       "\n",
       "    .dataframe thead th {\n",
       "        text-align: right;\n",
       "    }\n",
       "</style>\n",
       "<table border=\"1\" class=\"dataframe\">\n",
       "  <thead>\n",
       "    <tr style=\"text-align: right;\">\n",
       "      <th></th>\n",
       "      <th>Artist</th>\n",
       "      <th>Place</th>\n",
       "      <th>Seats</th>\n",
       "      <th>start_date</th>\n",
       "      <th>end_date</th>\n",
       "      <th>duration</th>\n",
       "      <th>avg_price</th>\n",
       "      <th>sales_expected</th>\n",
       "      <th>Artist_key</th>\n",
       "    </tr>\n",
       "  </thead>\n",
       "  <tbody>\n",
       "    <tr>\n",
       "      <th>3</th>\n",
       "      <td>TOMORROWxTOGETHER</td>\n",
       "      <td>고척스카이돔</td>\n",
       "      <td>16744</td>\n",
       "      <td>2023-12-02</td>\n",
       "      <td>2023-12-03</td>\n",
       "      <td>2</td>\n",
       "      <td>176000</td>\n",
       "      <td>5893888000</td>\n",
       "      <td>0</td>\n",
       "    </tr>\n",
       "    <tr>\n",
       "      <th>4</th>\n",
       "      <td>LESSERAFIM</td>\n",
       "      <td>잠실종합운동장 실내체육관</td>\n",
       "      <td>11032</td>\n",
       "      <td>2023-08-12</td>\n",
       "      <td>2023-08-13</td>\n",
       "      <td>2</td>\n",
       "      <td>176000</td>\n",
       "      <td>3883264000</td>\n",
       "      <td>1</td>\n",
       "    </tr>\n",
       "    <tr>\n",
       "      <th>5</th>\n",
       "      <td>SUGA</td>\n",
       "      <td>올림픽공원 KSPO DOME(체조경기장)</td>\n",
       "      <td>15000</td>\n",
       "      <td>2023-08-04</td>\n",
       "      <td>2023-08-06</td>\n",
       "      <td>3</td>\n",
       "      <td>192000</td>\n",
       "      <td>8640000000</td>\n",
       "      <td>2</td>\n",
       "    </tr>\n",
       "    <tr>\n",
       "      <th>6</th>\n",
       "      <td>ENHYPEN</td>\n",
       "      <td>올림픽공원 KSPO DOME(체조경기장)</td>\n",
       "      <td>15000</td>\n",
       "      <td>2023-07-29</td>\n",
       "      <td>2023-07-30</td>\n",
       "      <td>2</td>\n",
       "      <td>176000</td>\n",
       "      <td>5280000000</td>\n",
       "      <td>3</td>\n",
       "    </tr>\n",
       "    <tr>\n",
       "      <th>7</th>\n",
       "      <td>SEVENTEEN</td>\n",
       "      <td>고척스카이돔</td>\n",
       "      <td>16744</td>\n",
       "      <td>2023-07-21</td>\n",
       "      <td>2023-07-22</td>\n",
       "      <td>2</td>\n",
       "      <td>176000</td>\n",
       "      <td>5893888000</td>\n",
       "      <td>4</td>\n",
       "    </tr>\n",
       "    <tr>\n",
       "      <th>8</th>\n",
       "      <td>SUGA</td>\n",
       "      <td>잠실종합운동장 실내체육관</td>\n",
       "      <td>11032</td>\n",
       "      <td>2023-06-24</td>\n",
       "      <td>2023-06-25</td>\n",
       "      <td>2</td>\n",
       "      <td>192000</td>\n",
       "      <td>4236288000</td>\n",
       "      <td>2</td>\n",
       "    </tr>\n",
       "    <tr>\n",
       "      <th>9</th>\n",
       "      <td>TOMORROWxTOGETHER</td>\n",
       "      <td>올림픽공원 KSPO DOME(체조경기장)</td>\n",
       "      <td>15000</td>\n",
       "      <td>2023-03-25</td>\n",
       "      <td>2023-03-26</td>\n",
       "      <td>2</td>\n",
       "      <td>169000</td>\n",
       "      <td>5070000000</td>\n",
       "      <td>0</td>\n",
       "    </tr>\n",
       "    <tr>\n",
       "      <th>10</th>\n",
       "      <td>NewJeans</td>\n",
       "      <td>SK올림픽 핸드볼경기장</td>\n",
       "      <td>5003</td>\n",
       "      <td>2023-07-01</td>\n",
       "      <td>2023-07-02</td>\n",
       "      <td>2</td>\n",
       "      <td>99000</td>\n",
       "      <td>990594000</td>\n",
       "      <td>5</td>\n",
       "    </tr>\n",
       "    <tr>\n",
       "      <th>11</th>\n",
       "      <td>LESSERAFIM</td>\n",
       "      <td>올림픽공원 올림픽홀</td>\n",
       "      <td>3032</td>\n",
       "      <td>2023-03-18</td>\n",
       "      <td>2023-03-19</td>\n",
       "      <td>2</td>\n",
       "      <td>99000</td>\n",
       "      <td>600336000</td>\n",
       "      <td>1</td>\n",
       "    </tr>\n",
       "    <tr>\n",
       "      <th>12</th>\n",
       "      <td>SEVENTEEN</td>\n",
       "      <td>KSPO DOME</td>\n",
       "      <td>15000</td>\n",
       "      <td>2023-03-10</td>\n",
       "      <td>2023-03-12</td>\n",
       "      <td>3</td>\n",
       "      <td>99000</td>\n",
       "      <td>4455000000</td>\n",
       "      <td>4</td>\n",
       "    </tr>\n",
       "  </tbody>\n",
       "</table>\n",
       "</div>"
      ],
      "text/plain": [
       "               Artist                   Place  Seats start_date   end_date  \\\n",
       "3   TOMORROWxTOGETHER                  고척스카이돔  16744 2023-12-02 2023-12-03   \n",
       "4          LESSERAFIM           잠실종합운동장 실내체육관  11032 2023-08-12 2023-08-13   \n",
       "5               SUGA   올림픽공원 KSPO DOME(체조경기장)  15000 2023-08-04 2023-08-06   \n",
       "6             ENHYPEN  올림픽공원 KSPO DOME(체조경기장)  15000 2023-07-29 2023-07-30   \n",
       "7           SEVENTEEN                  고척스카이돔  16744 2023-07-21 2023-07-22   \n",
       "8               SUGA            잠실종합운동장 실내체육관  11032 2023-06-24 2023-06-25   \n",
       "9   TOMORROWxTOGETHER  올림픽공원 KSPO DOME(체조경기장)  15000 2023-03-25 2023-03-26   \n",
       "10           NewJeans            SK올림픽 핸드볼경기장   5003 2023-07-01 2023-07-02   \n",
       "11         LESSERAFIM              올림픽공원 올림픽홀   3032 2023-03-18 2023-03-19   \n",
       "12          SEVENTEEN               KSPO DOME  15000 2023-03-10 2023-03-12   \n",
       "\n",
       "    duration  avg_price  sales_expected  Artist_key  \n",
       "3          2     176000      5893888000           0  \n",
       "4          2     176000      3883264000           1  \n",
       "5          3     192000      8640000000           2  \n",
       "6          2     176000      5280000000           3  \n",
       "7          2     176000      5893888000           4  \n",
       "8          2     192000      4236288000           2  \n",
       "9          2     169000      5070000000           0  \n",
       "10         2      99000       990594000           5  \n",
       "11         2      99000       600336000           1  \n",
       "12         3      99000      4455000000           4  "
      ]
     },
     "execution_count": 687,
     "metadata": {},
     "output_type": "execute_result"
    }
   ],
   "source": [
    "df"
   ]
  },
  {
   "cell_type": "code",
   "execution_count": 609,
   "metadata": {},
   "outputs": [],
   "source": [
    "df['avg_price'] = df_temp.mean(axis = 'columns')\n",
    "df['avg_price'] =df['avg_price'].round()\n",
    "df.drop(['Price','vip_price','standard_Price','basic_Price'],axis=1,inplace=True)"
   ]
  },
  {
   "cell_type": "markdown",
   "metadata": {},
   "source": [
    "## 위의 결과를 기반으로 예상 매출 컬럼 생성하기"
   ]
  },
  {
   "cell_type": "code",
   "execution_count": 610,
   "metadata": {},
   "outputs": [],
   "source": [
    "df['Seats'] = df['Seats'].astype(int)\n",
    "df['duration'] = df['duration'].astype(int)\n",
    "df['avg_price'] = df['avg_price'].astype(int)\n",
    "df['avg_price'] = df['avg_price']*1000\n"
   ]
  },
  {
   "cell_type": "code",
   "execution_count": 686,
   "metadata": {},
   "outputs": [],
   "source": [
    "df['sales_expected'] = df['Seats'] *  df['avg_price'] *  df['duration']\n",
    "df.to_csv('/Users/yeon/Downloads/concert.csv')"
   ]
  },
  {
   "cell_type": "code",
   "execution_count": 612,
   "metadata": {},
   "outputs": [
    {
     "data": {
      "text/html": [
       "<div>\n",
       "<style scoped>\n",
       "    .dataframe tbody tr th:only-of-type {\n",
       "        vertical-align: middle;\n",
       "    }\n",
       "\n",
       "    .dataframe tbody tr th {\n",
       "        vertical-align: top;\n",
       "    }\n",
       "\n",
       "    .dataframe thead th {\n",
       "        text-align: right;\n",
       "    }\n",
       "</style>\n",
       "<table border=\"1\" class=\"dataframe\">\n",
       "  <thead>\n",
       "    <tr style=\"text-align: right;\">\n",
       "      <th></th>\n",
       "      <th>Artist</th>\n",
       "      <th>sales_expected</th>\n",
       "    </tr>\n",
       "  </thead>\n",
       "  <tbody>\n",
       "    <tr>\n",
       "      <th>4</th>\n",
       "      <td>SUGA</td>\n",
       "      <td>12876288000</td>\n",
       "    </tr>\n",
       "    <tr>\n",
       "      <th>5</th>\n",
       "      <td>TOMORROWxTOGETHER</td>\n",
       "      <td>10963888000</td>\n",
       "    </tr>\n",
       "    <tr>\n",
       "      <th>3</th>\n",
       "      <td>SEVENTEEN</td>\n",
       "      <td>10348888000</td>\n",
       "    </tr>\n",
       "    <tr>\n",
       "      <th>0</th>\n",
       "      <td>ENHYPEN</td>\n",
       "      <td>5280000000</td>\n",
       "    </tr>\n",
       "    <tr>\n",
       "      <th>1</th>\n",
       "      <td>LESSERAFIM</td>\n",
       "      <td>4483600000</td>\n",
       "    </tr>\n",
       "    <tr>\n",
       "      <th>2</th>\n",
       "      <td>NewJeans</td>\n",
       "      <td>990594000</td>\n",
       "    </tr>\n",
       "  </tbody>\n",
       "</table>\n",
       "</div>"
      ],
      "text/plain": [
       "              Artist  sales_expected\n",
       "4              SUGA      12876288000\n",
       "5  TOMORROWxTOGETHER     10963888000\n",
       "3          SEVENTEEN     10348888000\n",
       "0            ENHYPEN      5280000000\n",
       "1         LESSERAFIM      4483600000\n",
       "2           NewJeans       990594000"
      ]
     },
     "execution_count": 612,
     "metadata": {},
     "output_type": "execute_result"
    }
   ],
   "source": [
    "#데이터프레임.groupby(그룹이되는컬럼)[계산하고 싶은 컬럼].집계함수()\n",
    "df_sales = df.groupby(df['Artist'])['sales_expected'].sum().reset_index().sort_values(by = 'sales_expected', ascending= False)\n",
    "df_sales"
   ]
  },
  {
   "cell_type": "markdown",
   "metadata": {},
   "source": [
    "## 콘서트 매출 시각화 하기"
   ]
  },
  {
   "cell_type": "code",
   "execution_count": 614,
   "metadata": {},
   "outputs": [],
   "source": [
    "#월별 소속사 포함 개수 \n",
    "import pandas as pd\n",
    "import numpy as np\n",
    "import matplotlib.pyplot as plt\n",
    "import plotly.express as px\n",
    "import plotly.graph_objects as go\n",
    "import plotly.express as px\n",
    "import seaborn as sns\n"
   ]
  },
  {
   "cell_type": "code",
   "execution_count": 613,
   "metadata": {},
   "outputs": [
    {
     "data": {
      "application/vnd.plotly.v1+json": {
       "config": {
        "plotlyServerURL": "https://plot.ly"
       },
       "data": [
        {
         "domain": {
          "x": [
           0,
           1
          ],
          "y": [
           0,
           1
          ]
         },
         "hovertemplate": "Artist=%{label}<br>sales_expected=%{value}<extra></extra>",
         "labels": [
          "SUGA ",
          "TOMORROWxTOGETHER",
          "SEVENTEEN",
          "ENHYPEN",
          "LESSERAFIM",
          "NewJeans"
         ],
         "legendgroup": "",
         "name": "",
         "pull": [
          0.1,
          0,
          0,
          0,
          0,
          0
         ],
         "showlegend": true,
         "textfont": {
          "color": "black",
          "size": 10
         },
         "textinfo": "percent",
         "textposition": "inside",
         "type": "pie",
         "values": [
          12876288000,
          10963888000,
          10348888000,
          5280000000,
          4483600000,
          990594000
         ]
        }
       ],
       "layout": {
        "height": 400,
        "legend": {
         "tracegroupgap": 0
        },
        "piecolorway": [
         "rgb(102, 197, 204)",
         "rgb(246, 207, 113)",
         "rgb(248, 156, 116)",
         "rgb(220, 176, 242)",
         "rgb(135, 197, 95)",
         "rgb(158, 185, 243)",
         "rgb(254, 136, 177)",
         "rgb(201, 219, 116)",
         "rgb(139, 224, 164)",
         "rgb(180, 151, 231)",
         "rgb(179, 179, 179)"
        ],
        "template": {
         "data": {
          "bar": [
           {
            "error_x": {
             "color": "#f2f5fa"
            },
            "error_y": {
             "color": "#f2f5fa"
            },
            "marker": {
             "line": {
              "color": "rgb(17,17,17)",
              "width": 0.5
             },
             "pattern": {
              "fillmode": "overlay",
              "size": 10,
              "solidity": 0.2
             }
            },
            "type": "bar"
           }
          ],
          "barpolar": [
           {
            "marker": {
             "line": {
              "color": "rgb(17,17,17)",
              "width": 0.5
             },
             "pattern": {
              "fillmode": "overlay",
              "size": 10,
              "solidity": 0.2
             }
            },
            "type": "barpolar"
           }
          ],
          "carpet": [
           {
            "aaxis": {
             "endlinecolor": "#A2B1C6",
             "gridcolor": "#506784",
             "linecolor": "#506784",
             "minorgridcolor": "#506784",
             "startlinecolor": "#A2B1C6"
            },
            "baxis": {
             "endlinecolor": "#A2B1C6",
             "gridcolor": "#506784",
             "linecolor": "#506784",
             "minorgridcolor": "#506784",
             "startlinecolor": "#A2B1C6"
            },
            "type": "carpet"
           }
          ],
          "choropleth": [
           {
            "colorbar": {
             "outlinewidth": 0,
             "ticks": ""
            },
            "type": "choropleth"
           }
          ],
          "contour": [
           {
            "colorbar": {
             "outlinewidth": 0,
             "ticks": ""
            },
            "colorscale": [
             [
              0,
              "#0d0887"
             ],
             [
              0.1111111111111111,
              "#46039f"
             ],
             [
              0.2222222222222222,
              "#7201a8"
             ],
             [
              0.3333333333333333,
              "#9c179e"
             ],
             [
              0.4444444444444444,
              "#bd3786"
             ],
             [
              0.5555555555555556,
              "#d8576b"
             ],
             [
              0.6666666666666666,
              "#ed7953"
             ],
             [
              0.7777777777777778,
              "#fb9f3a"
             ],
             [
              0.8888888888888888,
              "#fdca26"
             ],
             [
              1,
              "#f0f921"
             ]
            ],
            "type": "contour"
           }
          ],
          "contourcarpet": [
           {
            "colorbar": {
             "outlinewidth": 0,
             "ticks": ""
            },
            "type": "contourcarpet"
           }
          ],
          "heatmap": [
           {
            "colorbar": {
             "outlinewidth": 0,
             "ticks": ""
            },
            "colorscale": [
             [
              0,
              "#0d0887"
             ],
             [
              0.1111111111111111,
              "#46039f"
             ],
             [
              0.2222222222222222,
              "#7201a8"
             ],
             [
              0.3333333333333333,
              "#9c179e"
             ],
             [
              0.4444444444444444,
              "#bd3786"
             ],
             [
              0.5555555555555556,
              "#d8576b"
             ],
             [
              0.6666666666666666,
              "#ed7953"
             ],
             [
              0.7777777777777778,
              "#fb9f3a"
             ],
             [
              0.8888888888888888,
              "#fdca26"
             ],
             [
              1,
              "#f0f921"
             ]
            ],
            "type": "heatmap"
           }
          ],
          "heatmapgl": [
           {
            "colorbar": {
             "outlinewidth": 0,
             "ticks": ""
            },
            "colorscale": [
             [
              0,
              "#0d0887"
             ],
             [
              0.1111111111111111,
              "#46039f"
             ],
             [
              0.2222222222222222,
              "#7201a8"
             ],
             [
              0.3333333333333333,
              "#9c179e"
             ],
             [
              0.4444444444444444,
              "#bd3786"
             ],
             [
              0.5555555555555556,
              "#d8576b"
             ],
             [
              0.6666666666666666,
              "#ed7953"
             ],
             [
              0.7777777777777778,
              "#fb9f3a"
             ],
             [
              0.8888888888888888,
              "#fdca26"
             ],
             [
              1,
              "#f0f921"
             ]
            ],
            "type": "heatmapgl"
           }
          ],
          "histogram": [
           {
            "marker": {
             "pattern": {
              "fillmode": "overlay",
              "size": 10,
              "solidity": 0.2
             }
            },
            "type": "histogram"
           }
          ],
          "histogram2d": [
           {
            "colorbar": {
             "outlinewidth": 0,
             "ticks": ""
            },
            "colorscale": [
             [
              0,
              "#0d0887"
             ],
             [
              0.1111111111111111,
              "#46039f"
             ],
             [
              0.2222222222222222,
              "#7201a8"
             ],
             [
              0.3333333333333333,
              "#9c179e"
             ],
             [
              0.4444444444444444,
              "#bd3786"
             ],
             [
              0.5555555555555556,
              "#d8576b"
             ],
             [
              0.6666666666666666,
              "#ed7953"
             ],
             [
              0.7777777777777778,
              "#fb9f3a"
             ],
             [
              0.8888888888888888,
              "#fdca26"
             ],
             [
              1,
              "#f0f921"
             ]
            ],
            "type": "histogram2d"
           }
          ],
          "histogram2dcontour": [
           {
            "colorbar": {
             "outlinewidth": 0,
             "ticks": ""
            },
            "colorscale": [
             [
              0,
              "#0d0887"
             ],
             [
              0.1111111111111111,
              "#46039f"
             ],
             [
              0.2222222222222222,
              "#7201a8"
             ],
             [
              0.3333333333333333,
              "#9c179e"
             ],
             [
              0.4444444444444444,
              "#bd3786"
             ],
             [
              0.5555555555555556,
              "#d8576b"
             ],
             [
              0.6666666666666666,
              "#ed7953"
             ],
             [
              0.7777777777777778,
              "#fb9f3a"
             ],
             [
              0.8888888888888888,
              "#fdca26"
             ],
             [
              1,
              "#f0f921"
             ]
            ],
            "type": "histogram2dcontour"
           }
          ],
          "mesh3d": [
           {
            "colorbar": {
             "outlinewidth": 0,
             "ticks": ""
            },
            "type": "mesh3d"
           }
          ],
          "parcoords": [
           {
            "line": {
             "colorbar": {
              "outlinewidth": 0,
              "ticks": ""
             }
            },
            "type": "parcoords"
           }
          ],
          "pie": [
           {
            "automargin": true,
            "type": "pie"
           }
          ],
          "scatter": [
           {
            "marker": {
             "line": {
              "color": "#283442"
             }
            },
            "type": "scatter"
           }
          ],
          "scatter3d": [
           {
            "line": {
             "colorbar": {
              "outlinewidth": 0,
              "ticks": ""
             }
            },
            "marker": {
             "colorbar": {
              "outlinewidth": 0,
              "ticks": ""
             }
            },
            "type": "scatter3d"
           }
          ],
          "scattercarpet": [
           {
            "marker": {
             "colorbar": {
              "outlinewidth": 0,
              "ticks": ""
             }
            },
            "type": "scattercarpet"
           }
          ],
          "scattergeo": [
           {
            "marker": {
             "colorbar": {
              "outlinewidth": 0,
              "ticks": ""
             }
            },
            "type": "scattergeo"
           }
          ],
          "scattergl": [
           {
            "marker": {
             "line": {
              "color": "#283442"
             }
            },
            "type": "scattergl"
           }
          ],
          "scattermapbox": [
           {
            "marker": {
             "colorbar": {
              "outlinewidth": 0,
              "ticks": ""
             }
            },
            "type": "scattermapbox"
           }
          ],
          "scatterpolar": [
           {
            "marker": {
             "colorbar": {
              "outlinewidth": 0,
              "ticks": ""
             }
            },
            "type": "scatterpolar"
           }
          ],
          "scatterpolargl": [
           {
            "marker": {
             "colorbar": {
              "outlinewidth": 0,
              "ticks": ""
             }
            },
            "type": "scatterpolargl"
           }
          ],
          "scatterternary": [
           {
            "marker": {
             "colorbar": {
              "outlinewidth": 0,
              "ticks": ""
             }
            },
            "type": "scatterternary"
           }
          ],
          "surface": [
           {
            "colorbar": {
             "outlinewidth": 0,
             "ticks": ""
            },
            "colorscale": [
             [
              0,
              "#0d0887"
             ],
             [
              0.1111111111111111,
              "#46039f"
             ],
             [
              0.2222222222222222,
              "#7201a8"
             ],
             [
              0.3333333333333333,
              "#9c179e"
             ],
             [
              0.4444444444444444,
              "#bd3786"
             ],
             [
              0.5555555555555556,
              "#d8576b"
             ],
             [
              0.6666666666666666,
              "#ed7953"
             ],
             [
              0.7777777777777778,
              "#fb9f3a"
             ],
             [
              0.8888888888888888,
              "#fdca26"
             ],
             [
              1,
              "#f0f921"
             ]
            ],
            "type": "surface"
           }
          ],
          "table": [
           {
            "cells": {
             "fill": {
              "color": "#506784"
             },
             "line": {
              "color": "rgb(17,17,17)"
             }
            },
            "header": {
             "fill": {
              "color": "#2a3f5f"
             },
             "line": {
              "color": "rgb(17,17,17)"
             }
            },
            "type": "table"
           }
          ]
         },
         "layout": {
          "annotationdefaults": {
           "arrowcolor": "#f2f5fa",
           "arrowhead": 0,
           "arrowwidth": 1
          },
          "autotypenumbers": "strict",
          "coloraxis": {
           "colorbar": {
            "outlinewidth": 0,
            "ticks": ""
           }
          },
          "colorscale": {
           "diverging": [
            [
             0,
             "#8e0152"
            ],
            [
             0.1,
             "#c51b7d"
            ],
            [
             0.2,
             "#de77ae"
            ],
            [
             0.3,
             "#f1b6da"
            ],
            [
             0.4,
             "#fde0ef"
            ],
            [
             0.5,
             "#f7f7f7"
            ],
            [
             0.6,
             "#e6f5d0"
            ],
            [
             0.7,
             "#b8e186"
            ],
            [
             0.8,
             "#7fbc41"
            ],
            [
             0.9,
             "#4d9221"
            ],
            [
             1,
             "#276419"
            ]
           ],
           "sequential": [
            [
             0,
             "#0d0887"
            ],
            [
             0.1111111111111111,
             "#46039f"
            ],
            [
             0.2222222222222222,
             "#7201a8"
            ],
            [
             0.3333333333333333,
             "#9c179e"
            ],
            [
             0.4444444444444444,
             "#bd3786"
            ],
            [
             0.5555555555555556,
             "#d8576b"
            ],
            [
             0.6666666666666666,
             "#ed7953"
            ],
            [
             0.7777777777777778,
             "#fb9f3a"
            ],
            [
             0.8888888888888888,
             "#fdca26"
            ],
            [
             1,
             "#f0f921"
            ]
           ],
           "sequentialminus": [
            [
             0,
             "#0d0887"
            ],
            [
             0.1111111111111111,
             "#46039f"
            ],
            [
             0.2222222222222222,
             "#7201a8"
            ],
            [
             0.3333333333333333,
             "#9c179e"
            ],
            [
             0.4444444444444444,
             "#bd3786"
            ],
            [
             0.5555555555555556,
             "#d8576b"
            ],
            [
             0.6666666666666666,
             "#ed7953"
            ],
            [
             0.7777777777777778,
             "#fb9f3a"
            ],
            [
             0.8888888888888888,
             "#fdca26"
            ],
            [
             1,
             "#f0f921"
            ]
           ]
          },
          "colorway": [
           "#636efa",
           "#EF553B",
           "#00cc96",
           "#ab63fa",
           "#FFA15A",
           "#19d3f3",
           "#FF6692",
           "#B6E880",
           "#FF97FF",
           "#FECB52"
          ],
          "font": {
           "color": "#f2f5fa"
          },
          "geo": {
           "bgcolor": "rgb(17,17,17)",
           "lakecolor": "rgb(17,17,17)",
           "landcolor": "rgb(17,17,17)",
           "showlakes": true,
           "showland": true,
           "subunitcolor": "#506784"
          },
          "hoverlabel": {
           "align": "left"
          },
          "hovermode": "closest",
          "mapbox": {
           "style": "dark"
          },
          "paper_bgcolor": "rgb(17,17,17)",
          "plot_bgcolor": "rgb(17,17,17)",
          "polar": {
           "angularaxis": {
            "gridcolor": "#506784",
            "linecolor": "#506784",
            "ticks": ""
           },
           "bgcolor": "rgb(17,17,17)",
           "radialaxis": {
            "gridcolor": "#506784",
            "linecolor": "#506784",
            "ticks": ""
           }
          },
          "scene": {
           "xaxis": {
            "backgroundcolor": "rgb(17,17,17)",
            "gridcolor": "#506784",
            "gridwidth": 2,
            "linecolor": "#506784",
            "showbackground": true,
            "ticks": "",
            "zerolinecolor": "#C8D4E3"
           },
           "yaxis": {
            "backgroundcolor": "rgb(17,17,17)",
            "gridcolor": "#506784",
            "gridwidth": 2,
            "linecolor": "#506784",
            "showbackground": true,
            "ticks": "",
            "zerolinecolor": "#C8D4E3"
           },
           "zaxis": {
            "backgroundcolor": "rgb(17,17,17)",
            "gridcolor": "#506784",
            "gridwidth": 2,
            "linecolor": "#506784",
            "showbackground": true,
            "ticks": "",
            "zerolinecolor": "#C8D4E3"
           }
          },
          "shapedefaults": {
           "line": {
            "color": "#f2f5fa"
           }
          },
          "sliderdefaults": {
           "bgcolor": "#C8D4E3",
           "bordercolor": "rgb(17,17,17)",
           "borderwidth": 1,
           "tickwidth": 0
          },
          "ternary": {
           "aaxis": {
            "gridcolor": "#506784",
            "linecolor": "#506784",
            "ticks": ""
           },
           "baxis": {
            "gridcolor": "#506784",
            "linecolor": "#506784",
            "ticks": ""
           },
           "bgcolor": "rgb(17,17,17)",
           "caxis": {
            "gridcolor": "#506784",
            "linecolor": "#506784",
            "ticks": ""
           }
          },
          "title": {
           "x": 0.05
          },
          "updatemenudefaults": {
           "bgcolor": "#506784",
           "borderwidth": 0
          },
          "xaxis": {
           "automargin": true,
           "gridcolor": "#283442",
           "linecolor": "#506784",
           "ticks": "",
           "title": {
            "standoff": 15
           },
           "zerolinecolor": "#283442",
           "zerolinewidth": 2
          },
          "yaxis": {
           "automargin": true,
           "gridcolor": "#283442",
           "linecolor": "#506784",
           "ticks": "",
           "title": {
            "standoff": 15
           },
           "zerolinecolor": "#283442",
           "zerolinewidth": 2
          }
         }
        },
        "title": {
         "font": {
          "size": 16
         },
         "text": "[ 하이브 소속 아티스트 2023 콘서트 예상매출 비중 ]",
         "x": 0.5,
         "xanchor": "center",
         "y": 0.9,
         "yanchor": "middle"
        },
        "width": 600
       }
      }
     },
     "metadata": {},
     "output_type": "display_data"
    }
   ],
   "source": [
    "fig = px.pie(data_frame = df_sales, values='sales_expected', names='Artist'\n",
    "             ,color_discrete_sequence=px.colors.qualitative.Pastel\n",
    "            ,width=600, height=400\n",
    "            ,title=\"[ 하이브 소속 아티스트 2023 콘서트 예상매출 비중 ]\"\n",
    "            ,labels=dict(year_month=\" \", title=\"차트인 횟수\"))\n",
    "\n",
    "fig.update_layout(\n",
    "                 title_x = 0.5,\n",
    "                 title_y = 0.9,\n",
    "                 title_xanchor = \"center\",\n",
    "                 title_yanchor = \"middle\",\n",
    "                 # 폰트 스타일 추가 부분\n",
    "                 title_font_size = 16\n",
    "                , template='plotly_dark')\n",
    "\n",
    "fig.update_traces(textposition='inside'\n",
    "                  ,textinfo='percent', textfont_size=10 ,textfont_color=\"black\"\n",
    "                 )\n",
    "\n",
    "\n",
    "fig.update_traces(pull=[0.1, 0, 0, 0,0,0])\n",
    "\n",
    "fig.show()"
   ]
  },
  {
   "cell_type": "code",
   "execution_count": 615,
   "metadata": {},
   "outputs": [
    {
     "data": {
      "application/vnd.plotly.v1+json": {
       "config": {
        "plotlyServerURL": "https://plot.ly"
       },
       "data": [
        {
         "alignmentgroup": "True",
         "hovertemplate": "Artist=%{x}<br>sales_expected=%{y}<extra></extra>",
         "legendgroup": "SUGA ",
         "marker": {
          "color": "rgb(102, 197, 204)",
          "pattern": {
           "shape": ""
          }
         },
         "name": "SUGA ",
         "offsetgroup": "SUGA ",
         "orientation": "v",
         "showlegend": true,
         "textangle": 0,
         "textfont": {
          "color": "black",
          "size": 10
         },
         "textposition": "inside",
         "texttemplate": "%{y:.2s}",
         "type": "bar",
         "x": [
          "SUGA "
         ],
         "xaxis": "x",
         "y": [
          12876288000
         ],
         "yaxis": "y"
        },
        {
         "alignmentgroup": "True",
         "hovertemplate": "Artist=%{x}<br>sales_expected=%{y}<extra></extra>",
         "legendgroup": "TOMORROWxTOGETHER",
         "marker": {
          "color": "rgb(246, 207, 113)",
          "pattern": {
           "shape": ""
          }
         },
         "name": "TOMORROWxTOGETHER",
         "offsetgroup": "TOMORROWxTOGETHER",
         "orientation": "v",
         "showlegend": true,
         "textangle": 0,
         "textfont": {
          "color": "black",
          "size": 10
         },
         "textposition": "inside",
         "texttemplate": "%{y:.2s}",
         "type": "bar",
         "x": [
          "TOMORROWxTOGETHER"
         ],
         "xaxis": "x",
         "y": [
          10963888000
         ],
         "yaxis": "y"
        },
        {
         "alignmentgroup": "True",
         "hovertemplate": "Artist=%{x}<br>sales_expected=%{y}<extra></extra>",
         "legendgroup": "SEVENTEEN",
         "marker": {
          "color": "rgb(248, 156, 116)",
          "pattern": {
           "shape": ""
          }
         },
         "name": "SEVENTEEN",
         "offsetgroup": "SEVENTEEN",
         "orientation": "v",
         "showlegend": true,
         "textangle": 0,
         "textfont": {
          "color": "black",
          "size": 10
         },
         "textposition": "inside",
         "texttemplate": "%{y:.2s}",
         "type": "bar",
         "x": [
          "SEVENTEEN"
         ],
         "xaxis": "x",
         "y": [
          10348888000
         ],
         "yaxis": "y"
        },
        {
         "alignmentgroup": "True",
         "hovertemplate": "Artist=%{x}<br>sales_expected=%{y}<extra></extra>",
         "legendgroup": "ENHYPEN",
         "marker": {
          "color": "rgb(220, 176, 242)",
          "pattern": {
           "shape": ""
          }
         },
         "name": "ENHYPEN",
         "offsetgroup": "ENHYPEN",
         "orientation": "v",
         "showlegend": true,
         "textangle": 0,
         "textfont": {
          "color": "black",
          "size": 10
         },
         "textposition": "inside",
         "texttemplate": "%{y:.2s}",
         "type": "bar",
         "x": [
          "ENHYPEN"
         ],
         "xaxis": "x",
         "y": [
          5280000000
         ],
         "yaxis": "y"
        },
        {
         "alignmentgroup": "True",
         "hovertemplate": "Artist=%{x}<br>sales_expected=%{y}<extra></extra>",
         "legendgroup": "LESSERAFIM",
         "marker": {
          "color": "rgb(135, 197, 95)",
          "pattern": {
           "shape": ""
          }
         },
         "name": "LESSERAFIM",
         "offsetgroup": "LESSERAFIM",
         "orientation": "v",
         "showlegend": true,
         "textangle": 0,
         "textfont": {
          "color": "black",
          "size": 10
         },
         "textposition": "inside",
         "texttemplate": "%{y:.2s}",
         "type": "bar",
         "x": [
          "LESSERAFIM"
         ],
         "xaxis": "x",
         "y": [
          4483600000
         ],
         "yaxis": "y"
        },
        {
         "alignmentgroup": "True",
         "hovertemplate": "Artist=%{x}<br>sales_expected=%{y}<extra></extra>",
         "legendgroup": "NewJeans",
         "marker": {
          "color": "rgb(158, 185, 243)",
          "pattern": {
           "shape": ""
          }
         },
         "name": "NewJeans",
         "offsetgroup": "NewJeans",
         "orientation": "v",
         "showlegend": true,
         "textangle": 0,
         "textfont": {
          "color": "black",
          "size": 10
         },
         "textposition": "inside",
         "texttemplate": "%{y:.2s}",
         "type": "bar",
         "x": [
          "NewJeans"
         ],
         "xaxis": "x",
         "y": [
          990594000
         ],
         "yaxis": "y"
        }
       ],
       "layout": {
        "barmode": "relative",
        "height": 400,
        "legend": {
         "title": {
          "text": "Artist"
         },
         "tracegroupgap": 0
        },
        "template": {
         "data": {
          "bar": [
           {
            "error_x": {
             "color": "#f2f5fa"
            },
            "error_y": {
             "color": "#f2f5fa"
            },
            "marker": {
             "line": {
              "color": "rgb(17,17,17)",
              "width": 0.5
             },
             "pattern": {
              "fillmode": "overlay",
              "size": 10,
              "solidity": 0.2
             }
            },
            "type": "bar"
           }
          ],
          "barpolar": [
           {
            "marker": {
             "line": {
              "color": "rgb(17,17,17)",
              "width": 0.5
             },
             "pattern": {
              "fillmode": "overlay",
              "size": 10,
              "solidity": 0.2
             }
            },
            "type": "barpolar"
           }
          ],
          "carpet": [
           {
            "aaxis": {
             "endlinecolor": "#A2B1C6",
             "gridcolor": "#506784",
             "linecolor": "#506784",
             "minorgridcolor": "#506784",
             "startlinecolor": "#A2B1C6"
            },
            "baxis": {
             "endlinecolor": "#A2B1C6",
             "gridcolor": "#506784",
             "linecolor": "#506784",
             "minorgridcolor": "#506784",
             "startlinecolor": "#A2B1C6"
            },
            "type": "carpet"
           }
          ],
          "choropleth": [
           {
            "colorbar": {
             "outlinewidth": 0,
             "ticks": ""
            },
            "type": "choropleth"
           }
          ],
          "contour": [
           {
            "colorbar": {
             "outlinewidth": 0,
             "ticks": ""
            },
            "colorscale": [
             [
              0,
              "#0d0887"
             ],
             [
              0.1111111111111111,
              "#46039f"
             ],
             [
              0.2222222222222222,
              "#7201a8"
             ],
             [
              0.3333333333333333,
              "#9c179e"
             ],
             [
              0.4444444444444444,
              "#bd3786"
             ],
             [
              0.5555555555555556,
              "#d8576b"
             ],
             [
              0.6666666666666666,
              "#ed7953"
             ],
             [
              0.7777777777777778,
              "#fb9f3a"
             ],
             [
              0.8888888888888888,
              "#fdca26"
             ],
             [
              1,
              "#f0f921"
             ]
            ],
            "type": "contour"
           }
          ],
          "contourcarpet": [
           {
            "colorbar": {
             "outlinewidth": 0,
             "ticks": ""
            },
            "type": "contourcarpet"
           }
          ],
          "heatmap": [
           {
            "colorbar": {
             "outlinewidth": 0,
             "ticks": ""
            },
            "colorscale": [
             [
              0,
              "#0d0887"
             ],
             [
              0.1111111111111111,
              "#46039f"
             ],
             [
              0.2222222222222222,
              "#7201a8"
             ],
             [
              0.3333333333333333,
              "#9c179e"
             ],
             [
              0.4444444444444444,
              "#bd3786"
             ],
             [
              0.5555555555555556,
              "#d8576b"
             ],
             [
              0.6666666666666666,
              "#ed7953"
             ],
             [
              0.7777777777777778,
              "#fb9f3a"
             ],
             [
              0.8888888888888888,
              "#fdca26"
             ],
             [
              1,
              "#f0f921"
             ]
            ],
            "type": "heatmap"
           }
          ],
          "heatmapgl": [
           {
            "colorbar": {
             "outlinewidth": 0,
             "ticks": ""
            },
            "colorscale": [
             [
              0,
              "#0d0887"
             ],
             [
              0.1111111111111111,
              "#46039f"
             ],
             [
              0.2222222222222222,
              "#7201a8"
             ],
             [
              0.3333333333333333,
              "#9c179e"
             ],
             [
              0.4444444444444444,
              "#bd3786"
             ],
             [
              0.5555555555555556,
              "#d8576b"
             ],
             [
              0.6666666666666666,
              "#ed7953"
             ],
             [
              0.7777777777777778,
              "#fb9f3a"
             ],
             [
              0.8888888888888888,
              "#fdca26"
             ],
             [
              1,
              "#f0f921"
             ]
            ],
            "type": "heatmapgl"
           }
          ],
          "histogram": [
           {
            "marker": {
             "pattern": {
              "fillmode": "overlay",
              "size": 10,
              "solidity": 0.2
             }
            },
            "type": "histogram"
           }
          ],
          "histogram2d": [
           {
            "colorbar": {
             "outlinewidth": 0,
             "ticks": ""
            },
            "colorscale": [
             [
              0,
              "#0d0887"
             ],
             [
              0.1111111111111111,
              "#46039f"
             ],
             [
              0.2222222222222222,
              "#7201a8"
             ],
             [
              0.3333333333333333,
              "#9c179e"
             ],
             [
              0.4444444444444444,
              "#bd3786"
             ],
             [
              0.5555555555555556,
              "#d8576b"
             ],
             [
              0.6666666666666666,
              "#ed7953"
             ],
             [
              0.7777777777777778,
              "#fb9f3a"
             ],
             [
              0.8888888888888888,
              "#fdca26"
             ],
             [
              1,
              "#f0f921"
             ]
            ],
            "type": "histogram2d"
           }
          ],
          "histogram2dcontour": [
           {
            "colorbar": {
             "outlinewidth": 0,
             "ticks": ""
            },
            "colorscale": [
             [
              0,
              "#0d0887"
             ],
             [
              0.1111111111111111,
              "#46039f"
             ],
             [
              0.2222222222222222,
              "#7201a8"
             ],
             [
              0.3333333333333333,
              "#9c179e"
             ],
             [
              0.4444444444444444,
              "#bd3786"
             ],
             [
              0.5555555555555556,
              "#d8576b"
             ],
             [
              0.6666666666666666,
              "#ed7953"
             ],
             [
              0.7777777777777778,
              "#fb9f3a"
             ],
             [
              0.8888888888888888,
              "#fdca26"
             ],
             [
              1,
              "#f0f921"
             ]
            ],
            "type": "histogram2dcontour"
           }
          ],
          "mesh3d": [
           {
            "colorbar": {
             "outlinewidth": 0,
             "ticks": ""
            },
            "type": "mesh3d"
           }
          ],
          "parcoords": [
           {
            "line": {
             "colorbar": {
              "outlinewidth": 0,
              "ticks": ""
             }
            },
            "type": "parcoords"
           }
          ],
          "pie": [
           {
            "automargin": true,
            "type": "pie"
           }
          ],
          "scatter": [
           {
            "marker": {
             "line": {
              "color": "#283442"
             }
            },
            "type": "scatter"
           }
          ],
          "scatter3d": [
           {
            "line": {
             "colorbar": {
              "outlinewidth": 0,
              "ticks": ""
             }
            },
            "marker": {
             "colorbar": {
              "outlinewidth": 0,
              "ticks": ""
             }
            },
            "type": "scatter3d"
           }
          ],
          "scattercarpet": [
           {
            "marker": {
             "colorbar": {
              "outlinewidth": 0,
              "ticks": ""
             }
            },
            "type": "scattercarpet"
           }
          ],
          "scattergeo": [
           {
            "marker": {
             "colorbar": {
              "outlinewidth": 0,
              "ticks": ""
             }
            },
            "type": "scattergeo"
           }
          ],
          "scattergl": [
           {
            "marker": {
             "line": {
              "color": "#283442"
             }
            },
            "type": "scattergl"
           }
          ],
          "scattermapbox": [
           {
            "marker": {
             "colorbar": {
              "outlinewidth": 0,
              "ticks": ""
             }
            },
            "type": "scattermapbox"
           }
          ],
          "scatterpolar": [
           {
            "marker": {
             "colorbar": {
              "outlinewidth": 0,
              "ticks": ""
             }
            },
            "type": "scatterpolar"
           }
          ],
          "scatterpolargl": [
           {
            "marker": {
             "colorbar": {
              "outlinewidth": 0,
              "ticks": ""
             }
            },
            "type": "scatterpolargl"
           }
          ],
          "scatterternary": [
           {
            "marker": {
             "colorbar": {
              "outlinewidth": 0,
              "ticks": ""
             }
            },
            "type": "scatterternary"
           }
          ],
          "surface": [
           {
            "colorbar": {
             "outlinewidth": 0,
             "ticks": ""
            },
            "colorscale": [
             [
              0,
              "#0d0887"
             ],
             [
              0.1111111111111111,
              "#46039f"
             ],
             [
              0.2222222222222222,
              "#7201a8"
             ],
             [
              0.3333333333333333,
              "#9c179e"
             ],
             [
              0.4444444444444444,
              "#bd3786"
             ],
             [
              0.5555555555555556,
              "#d8576b"
             ],
             [
              0.6666666666666666,
              "#ed7953"
             ],
             [
              0.7777777777777778,
              "#fb9f3a"
             ],
             [
              0.8888888888888888,
              "#fdca26"
             ],
             [
              1,
              "#f0f921"
             ]
            ],
            "type": "surface"
           }
          ],
          "table": [
           {
            "cells": {
             "fill": {
              "color": "#506784"
             },
             "line": {
              "color": "rgb(17,17,17)"
             }
            },
            "header": {
             "fill": {
              "color": "#2a3f5f"
             },
             "line": {
              "color": "rgb(17,17,17)"
             }
            },
            "type": "table"
           }
          ]
         },
         "layout": {
          "annotationdefaults": {
           "arrowcolor": "#f2f5fa",
           "arrowhead": 0,
           "arrowwidth": 1
          },
          "autotypenumbers": "strict",
          "coloraxis": {
           "colorbar": {
            "outlinewidth": 0,
            "ticks": ""
           }
          },
          "colorscale": {
           "diverging": [
            [
             0,
             "#8e0152"
            ],
            [
             0.1,
             "#c51b7d"
            ],
            [
             0.2,
             "#de77ae"
            ],
            [
             0.3,
             "#f1b6da"
            ],
            [
             0.4,
             "#fde0ef"
            ],
            [
             0.5,
             "#f7f7f7"
            ],
            [
             0.6,
             "#e6f5d0"
            ],
            [
             0.7,
             "#b8e186"
            ],
            [
             0.8,
             "#7fbc41"
            ],
            [
             0.9,
             "#4d9221"
            ],
            [
             1,
             "#276419"
            ]
           ],
           "sequential": [
            [
             0,
             "#0d0887"
            ],
            [
             0.1111111111111111,
             "#46039f"
            ],
            [
             0.2222222222222222,
             "#7201a8"
            ],
            [
             0.3333333333333333,
             "#9c179e"
            ],
            [
             0.4444444444444444,
             "#bd3786"
            ],
            [
             0.5555555555555556,
             "#d8576b"
            ],
            [
             0.6666666666666666,
             "#ed7953"
            ],
            [
             0.7777777777777778,
             "#fb9f3a"
            ],
            [
             0.8888888888888888,
             "#fdca26"
            ],
            [
             1,
             "#f0f921"
            ]
           ],
           "sequentialminus": [
            [
             0,
             "#0d0887"
            ],
            [
             0.1111111111111111,
             "#46039f"
            ],
            [
             0.2222222222222222,
             "#7201a8"
            ],
            [
             0.3333333333333333,
             "#9c179e"
            ],
            [
             0.4444444444444444,
             "#bd3786"
            ],
            [
             0.5555555555555556,
             "#d8576b"
            ],
            [
             0.6666666666666666,
             "#ed7953"
            ],
            [
             0.7777777777777778,
             "#fb9f3a"
            ],
            [
             0.8888888888888888,
             "#fdca26"
            ],
            [
             1,
             "#f0f921"
            ]
           ]
          },
          "colorway": [
           "#636efa",
           "#EF553B",
           "#00cc96",
           "#ab63fa",
           "#FFA15A",
           "#19d3f3",
           "#FF6692",
           "#B6E880",
           "#FF97FF",
           "#FECB52"
          ],
          "font": {
           "color": "#f2f5fa"
          },
          "geo": {
           "bgcolor": "rgb(17,17,17)",
           "lakecolor": "rgb(17,17,17)",
           "landcolor": "rgb(17,17,17)",
           "showlakes": true,
           "showland": true,
           "subunitcolor": "#506784"
          },
          "hoverlabel": {
           "align": "left"
          },
          "hovermode": "closest",
          "mapbox": {
           "style": "dark"
          },
          "paper_bgcolor": "rgb(17,17,17)",
          "plot_bgcolor": "rgb(17,17,17)",
          "polar": {
           "angularaxis": {
            "gridcolor": "#506784",
            "linecolor": "#506784",
            "ticks": ""
           },
           "bgcolor": "rgb(17,17,17)",
           "radialaxis": {
            "gridcolor": "#506784",
            "linecolor": "#506784",
            "ticks": ""
           }
          },
          "scene": {
           "xaxis": {
            "backgroundcolor": "rgb(17,17,17)",
            "gridcolor": "#506784",
            "gridwidth": 2,
            "linecolor": "#506784",
            "showbackground": true,
            "ticks": "",
            "zerolinecolor": "#C8D4E3"
           },
           "yaxis": {
            "backgroundcolor": "rgb(17,17,17)",
            "gridcolor": "#506784",
            "gridwidth": 2,
            "linecolor": "#506784",
            "showbackground": true,
            "ticks": "",
            "zerolinecolor": "#C8D4E3"
           },
           "zaxis": {
            "backgroundcolor": "rgb(17,17,17)",
            "gridcolor": "#506784",
            "gridwidth": 2,
            "linecolor": "#506784",
            "showbackground": true,
            "ticks": "",
            "zerolinecolor": "#C8D4E3"
           }
          },
          "shapedefaults": {
           "line": {
            "color": "#f2f5fa"
           }
          },
          "sliderdefaults": {
           "bgcolor": "#C8D4E3",
           "bordercolor": "rgb(17,17,17)",
           "borderwidth": 1,
           "tickwidth": 0
          },
          "ternary": {
           "aaxis": {
            "gridcolor": "#506784",
            "linecolor": "#506784",
            "ticks": ""
           },
           "baxis": {
            "gridcolor": "#506784",
            "linecolor": "#506784",
            "ticks": ""
           },
           "bgcolor": "rgb(17,17,17)",
           "caxis": {
            "gridcolor": "#506784",
            "linecolor": "#506784",
            "ticks": ""
           }
          },
          "title": {
           "x": 0.05
          },
          "updatemenudefaults": {
           "bgcolor": "#506784",
           "borderwidth": 0
          },
          "xaxis": {
           "automargin": true,
           "gridcolor": "#283442",
           "linecolor": "#506784",
           "ticks": "",
           "title": {
            "standoff": 15
           },
           "zerolinecolor": "#283442",
           "zerolinewidth": 2
          },
          "yaxis": {
           "automargin": true,
           "gridcolor": "#283442",
           "linecolor": "#506784",
           "ticks": "",
           "title": {
            "standoff": 15
           },
           "zerolinecolor": "#283442",
           "zerolinewidth": 2
          }
         }
        },
        "title": {
         "font": {
          "size": 16
         },
         "text": "[ 하이브 소속 아티스트 2023 콘서트 예상매출액 ]",
         "x": 0.5,
         "xanchor": "center",
         "y": 0.9,
         "yanchor": "middle"
        },
        "width": 600,
        "xaxis": {
         "anchor": "y",
         "categoryarray": [
          "SUGA ",
          "TOMORROWxTOGETHER",
          "SEVENTEEN",
          "ENHYPEN",
          "LESSERAFIM",
          "NewJeans"
         ],
         "categoryorder": "array",
         "domain": [
          0,
          1
         ],
         "linecolor": "white",
         "linewidth": 1,
         "showline": true,
         "tickangle": 45,
         "tickfont": {
          "size": 10
         },
         "title": {
          "text": "Artist"
         }
        },
        "yaxis": {
         "anchor": "x",
         "domain": [
          0,
          1
         ],
         "linecolor": "white",
         "linewidth": 1,
         "showline": true,
         "title": {
          "text": "sales_expected"
         }
        }
       }
      }
     },
     "metadata": {},
     "output_type": "display_data"
    }
   ],
   "source": [
    "fig = px.bar(data_frame = df_sales, x= 'Artist', y= 'sales_expected',color='Artist'\n",
    "            ,color_discrete_sequence=px.colors.qualitative.Pastel\n",
    "            ,width=600, height=400,text_auto='.2s'\n",
    "            ,title=\"[ 하이브 소속 아티스트 2023 콘서트 예상매출액 ]\"\n",
    "            ,labels=dict(year_month=\" \", title=\"차트인 횟수\"))\n",
    "\n",
    "fig.update_layout(\n",
    "                 title_x = 0.5,\n",
    "                 title_y = 0.9,\n",
    "                 title_xanchor = \"center\",\n",
    "                 title_yanchor = \"middle\",\n",
    "                 # 폰트 스타일 추가 부분\n",
    "                 title_font_size = 16\n",
    "                , template='plotly_dark')\n",
    "\n",
    "\n",
    "fig.update_xaxes(tickangle=45,#x축 각도\n",
    "                 tickfont_size=10)\n",
    "\n",
    "fig.update_xaxes(showline=True, linewidth=1, linecolor='white', col=1)\n",
    "fig.update_yaxes(showline=True, linewidth=1, linecolor='white', col=1)\n",
    "\n",
    "\n",
    "fig.update_traces(textfont_size=10,textfont_color='black', textangle=0, textposition=\"inside\")\n",
    "fig.show()\n",
    "\n"
   ]
  },
  {
   "cell_type": "markdown",
   "metadata": {},
   "source": [
    "## 멜론 차트와 매핑하기 위한 key값 생성"
   ]
  },
  {
   "cell_type": "code",
   "execution_count": 674,
   "metadata": {},
   "outputs": [],
   "source": [
    "temp_list = df['Artist'].unique().tolist()\n",
    "df['Artist_key'] = df['Artist'].map(lambda x : temp_list.index(x))\n"
   ]
  },
  {
   "cell_type": "code",
   "execution_count": 676,
   "metadata": {},
   "outputs": [
    {
     "data": {
      "text/html": [
       "<div>\n",
       "<style scoped>\n",
       "    .dataframe tbody tr th:only-of-type {\n",
       "        vertical-align: middle;\n",
       "    }\n",
       "\n",
       "    .dataframe tbody tr th {\n",
       "        vertical-align: top;\n",
       "    }\n",
       "\n",
       "    .dataframe thead th {\n",
       "        text-align: right;\n",
       "    }\n",
       "</style>\n",
       "<table border=\"1\" class=\"dataframe\">\n",
       "  <thead>\n",
       "    <tr style=\"text-align: right;\">\n",
       "      <th></th>\n",
       "      <th>Artist</th>\n",
       "      <th>Place</th>\n",
       "      <th>Seats</th>\n",
       "      <th>start_date</th>\n",
       "      <th>end_date</th>\n",
       "      <th>duration</th>\n",
       "      <th>avg_price</th>\n",
       "      <th>sales_expected</th>\n",
       "      <th>Artist_key</th>\n",
       "    </tr>\n",
       "  </thead>\n",
       "  <tbody>\n",
       "    <tr>\n",
       "      <th>3</th>\n",
       "      <td>TOMORROWxTOGETHER</td>\n",
       "      <td>고척스카이돔</td>\n",
       "      <td>16744</td>\n",
       "      <td>2023-12-02</td>\n",
       "      <td>2023-12-03</td>\n",
       "      <td>2</td>\n",
       "      <td>176000</td>\n",
       "      <td>5893888000</td>\n",
       "      <td>0</td>\n",
       "    </tr>\n",
       "    <tr>\n",
       "      <th>4</th>\n",
       "      <td>LESSERAFIM</td>\n",
       "      <td>잠실종합운동장 실내체육관</td>\n",
       "      <td>11032</td>\n",
       "      <td>2023-08-12</td>\n",
       "      <td>2023-08-13</td>\n",
       "      <td>2</td>\n",
       "      <td>176000</td>\n",
       "      <td>3883264000</td>\n",
       "      <td>1</td>\n",
       "    </tr>\n",
       "    <tr>\n",
       "      <th>5</th>\n",
       "      <td>SUGA</td>\n",
       "      <td>올림픽공원 KSPO DOME(체조경기장)</td>\n",
       "      <td>15000</td>\n",
       "      <td>2023-08-04</td>\n",
       "      <td>2023-08-06</td>\n",
       "      <td>3</td>\n",
       "      <td>192000</td>\n",
       "      <td>8640000000</td>\n",
       "      <td>2</td>\n",
       "    </tr>\n",
       "    <tr>\n",
       "      <th>6</th>\n",
       "      <td>ENHYPEN</td>\n",
       "      <td>올림픽공원 KSPO DOME(체조경기장)</td>\n",
       "      <td>15000</td>\n",
       "      <td>2023-07-29</td>\n",
       "      <td>2023-07-30</td>\n",
       "      <td>2</td>\n",
       "      <td>176000</td>\n",
       "      <td>5280000000</td>\n",
       "      <td>3</td>\n",
       "    </tr>\n",
       "    <tr>\n",
       "      <th>7</th>\n",
       "      <td>SEVENTEEN</td>\n",
       "      <td>고척스카이돔</td>\n",
       "      <td>16744</td>\n",
       "      <td>2023-07-21</td>\n",
       "      <td>2023-07-22</td>\n",
       "      <td>2</td>\n",
       "      <td>176000</td>\n",
       "      <td>5893888000</td>\n",
       "      <td>4</td>\n",
       "    </tr>\n",
       "    <tr>\n",
       "      <th>8</th>\n",
       "      <td>SUGA</td>\n",
       "      <td>잠실종합운동장 실내체육관</td>\n",
       "      <td>11032</td>\n",
       "      <td>2023-06-24</td>\n",
       "      <td>2023-06-25</td>\n",
       "      <td>2</td>\n",
       "      <td>192000</td>\n",
       "      <td>4236288000</td>\n",
       "      <td>2</td>\n",
       "    </tr>\n",
       "    <tr>\n",
       "      <th>9</th>\n",
       "      <td>TOMORROWxTOGETHER</td>\n",
       "      <td>올림픽공원 KSPO DOME(체조경기장)</td>\n",
       "      <td>15000</td>\n",
       "      <td>2023-03-25</td>\n",
       "      <td>2023-03-26</td>\n",
       "      <td>2</td>\n",
       "      <td>169000</td>\n",
       "      <td>5070000000</td>\n",
       "      <td>0</td>\n",
       "    </tr>\n",
       "    <tr>\n",
       "      <th>10</th>\n",
       "      <td>NewJeans</td>\n",
       "      <td>SK올림픽 핸드볼경기장</td>\n",
       "      <td>5003</td>\n",
       "      <td>2023-07-01</td>\n",
       "      <td>2023-07-02</td>\n",
       "      <td>2</td>\n",
       "      <td>99000</td>\n",
       "      <td>990594000</td>\n",
       "      <td>5</td>\n",
       "    </tr>\n",
       "    <tr>\n",
       "      <th>11</th>\n",
       "      <td>LESSERAFIM</td>\n",
       "      <td>올림픽공원 올림픽홀</td>\n",
       "      <td>3032</td>\n",
       "      <td>2023-03-18</td>\n",
       "      <td>2023-03-19</td>\n",
       "      <td>2</td>\n",
       "      <td>99000</td>\n",
       "      <td>600336000</td>\n",
       "      <td>1</td>\n",
       "    </tr>\n",
       "    <tr>\n",
       "      <th>12</th>\n",
       "      <td>SEVENTEEN</td>\n",
       "      <td>KSPO DOME</td>\n",
       "      <td>15000</td>\n",
       "      <td>2023-03-10</td>\n",
       "      <td>2023-03-12</td>\n",
       "      <td>3</td>\n",
       "      <td>99000</td>\n",
       "      <td>4455000000</td>\n",
       "      <td>4</td>\n",
       "    </tr>\n",
       "  </tbody>\n",
       "</table>\n",
       "</div>"
      ],
      "text/plain": [
       "               Artist                   Place  Seats start_date   end_date  \\\n",
       "3   TOMORROWxTOGETHER                  고척스카이돔  16744 2023-12-02 2023-12-03   \n",
       "4          LESSERAFIM           잠실종합운동장 실내체육관  11032 2023-08-12 2023-08-13   \n",
       "5               SUGA   올림픽공원 KSPO DOME(체조경기장)  15000 2023-08-04 2023-08-06   \n",
       "6             ENHYPEN  올림픽공원 KSPO DOME(체조경기장)  15000 2023-07-29 2023-07-30   \n",
       "7           SEVENTEEN                  고척스카이돔  16744 2023-07-21 2023-07-22   \n",
       "8               SUGA            잠실종합운동장 실내체육관  11032 2023-06-24 2023-06-25   \n",
       "9   TOMORROWxTOGETHER  올림픽공원 KSPO DOME(체조경기장)  15000 2023-03-25 2023-03-26   \n",
       "10           NewJeans            SK올림픽 핸드볼경기장   5003 2023-07-01 2023-07-02   \n",
       "11         LESSERAFIM              올림픽공원 올림픽홀   3032 2023-03-18 2023-03-19   \n",
       "12          SEVENTEEN               KSPO DOME  15000 2023-03-10 2023-03-12   \n",
       "\n",
       "    duration  avg_price  sales_expected  Artist_key  \n",
       "3          2     176000      5893888000           0  \n",
       "4          2     176000      3883264000           1  \n",
       "5          3     192000      8640000000           2  \n",
       "6          2     176000      5280000000           3  \n",
       "7          2     176000      5893888000           4  \n",
       "8          2     192000      4236288000           2  \n",
       "9          2     169000      5070000000           0  \n",
       "10         2      99000       990594000           5  \n",
       "11         2      99000       600336000           1  \n",
       "12         3      99000      4455000000           4  "
      ]
     },
     "execution_count": 676,
     "metadata": {},
     "output_type": "execute_result"
    }
   ],
   "source": [
    "df.head(3)\n",
    "df"
   ]
  },
  {
   "cell_type": "code",
   "execution_count": 662,
   "metadata": {},
   "outputs": [
    {
     "data": {
      "text/html": [
       "<div>\n",
       "<style scoped>\n",
       "    .dataframe tbody tr th:only-of-type {\n",
       "        vertical-align: middle;\n",
       "    }\n",
       "\n",
       "    .dataframe tbody tr th {\n",
       "        vertical-align: top;\n",
       "    }\n",
       "\n",
       "    .dataframe thead th {\n",
       "        text-align: right;\n",
       "    }\n",
       "</style>\n",
       "<table border=\"1\" class=\"dataframe\">\n",
       "  <thead>\n",
       "    <tr style=\"text-align: right;\">\n",
       "      <th></th>\n",
       "      <th>artist</th>\n",
       "      <th>Artist_key</th>\n",
       "      <th>title</th>\n",
       "      <th>sales_expected</th>\n",
       "    </tr>\n",
       "  </thead>\n",
       "  <tbody>\n",
       "    <tr>\n",
       "      <th>3</th>\n",
       "      <td>방탄소년단</td>\n",
       "      <td>2</td>\n",
       "      <td>120</td>\n",
       "      <td>1.287629e+10</td>\n",
       "    </tr>\n",
       "    <tr>\n",
       "      <th>1</th>\n",
       "      <td>NewJeans</td>\n",
       "      <td>5</td>\n",
       "      <td>110</td>\n",
       "      <td>9.905940e+08</td>\n",
       "    </tr>\n",
       "    <tr>\n",
       "      <th>0</th>\n",
       "      <td>LE SSERAFIM (르세라핌)</td>\n",
       "      <td>1</td>\n",
       "      <td>54</td>\n",
       "      <td>4.483600e+09</td>\n",
       "    </tr>\n",
       "    <tr>\n",
       "      <th>4</th>\n",
       "      <td>세븐틴 (SEVENTEEN)</td>\n",
       "      <td>4</td>\n",
       "      <td>26</td>\n",
       "      <td>1.034889e+10</td>\n",
       "    </tr>\n",
       "    <tr>\n",
       "      <th>5</th>\n",
       "      <td>투모로우바이투게더</td>\n",
       "      <td>0</td>\n",
       "      <td>8</td>\n",
       "      <td>1.096389e+10</td>\n",
       "    </tr>\n",
       "    <tr>\n",
       "      <th>6</th>\n",
       "      <td>프로미스나인</td>\n",
       "      <td>7</td>\n",
       "      <td>2</td>\n",
       "      <td>NaN</td>\n",
       "    </tr>\n",
       "    <tr>\n",
       "      <th>2</th>\n",
       "      <td>TWS (투어스)</td>\n",
       "      <td>8</td>\n",
       "      <td>1</td>\n",
       "      <td>NaN</td>\n",
       "    </tr>\n",
       "  </tbody>\n",
       "</table>\n",
       "</div>"
      ],
      "text/plain": [
       "               artist  Artist_key  title  sales_expected\n",
       "3               방탄소년단           2    120    1.287629e+10\n",
       "1            NewJeans           5    110    9.905940e+08\n",
       "0  LE SSERAFIM (르세라핌)           1     54    4.483600e+09\n",
       "4     세븐틴 (SEVENTEEN)           4     26    1.034889e+10\n",
       "5           투모로우바이투게더           0      8    1.096389e+10\n",
       "6              프로미스나인           7      2             NaN\n",
       "2           TWS (투어스)           8      1             NaN"
      ]
     },
     "execution_count": 662,
     "metadata": {},
     "output_type": "execute_result"
    }
   ],
   "source": [
    "df_merge = pd.merge(left = df_melon , right = df_sales , how = \"left\", on = \"Artist_key\").sort_values(by = ['title','sales_expected'] , ascending = False)\n",
    "df_merge.drop(['Artist'], axis = 1)\n",
    "df_merge.to_csv('/Users/yeon/Downloads/concert_pre.csv')"
   ]
  },
  {
   "cell_type": "code",
   "execution_count": 656,
   "metadata": {},
   "outputs": [
    {
     "data": {
      "text/html": [
       "<div>\n",
       "<style scoped>\n",
       "    .dataframe tbody tr th:only-of-type {\n",
       "        vertical-align: middle;\n",
       "    }\n",
       "\n",
       "    .dataframe tbody tr th {\n",
       "        vertical-align: top;\n",
       "    }\n",
       "\n",
       "    .dataframe thead th {\n",
       "        text-align: right;\n",
       "    }\n",
       "</style>\n",
       "<table border=\"1\" class=\"dataframe\">\n",
       "  <thead>\n",
       "    <tr style=\"text-align: right;\">\n",
       "      <th></th>\n",
       "      <th>artist</th>\n",
       "      <th>Artist_key</th>\n",
       "      <th>title</th>\n",
       "      <th>Artist</th>\n",
       "      <th>sales_expected</th>\n",
       "    </tr>\n",
       "  </thead>\n",
       "  <tbody>\n",
       "    <tr>\n",
       "      <th>3</th>\n",
       "      <td>방탄소년단</td>\n",
       "      <td>2</td>\n",
       "      <td>120</td>\n",
       "      <td>SUGA</td>\n",
       "      <td>1.287629e+10</td>\n",
       "    </tr>\n",
       "    <tr>\n",
       "      <th>5</th>\n",
       "      <td>투모로우바이투게더</td>\n",
       "      <td>0</td>\n",
       "      <td>8</td>\n",
       "      <td>TOMORROWxTOGETHER</td>\n",
       "      <td>1.096389e+10</td>\n",
       "    </tr>\n",
       "    <tr>\n",
       "      <th>4</th>\n",
       "      <td>세븐틴 (SEVENTEEN)</td>\n",
       "      <td>4</td>\n",
       "      <td>26</td>\n",
       "      <td>SEVENTEEN</td>\n",
       "      <td>1.034889e+10</td>\n",
       "    </tr>\n",
       "    <tr>\n",
       "      <th>0</th>\n",
       "      <td>LE SSERAFIM (르세라핌)</td>\n",
       "      <td>1</td>\n",
       "      <td>54</td>\n",
       "      <td>LESSERAFIM</td>\n",
       "      <td>4.483600e+09</td>\n",
       "    </tr>\n",
       "    <tr>\n",
       "      <th>1</th>\n",
       "      <td>NewJeans</td>\n",
       "      <td>5</td>\n",
       "      <td>110</td>\n",
       "      <td>NewJeans</td>\n",
       "      <td>9.905940e+08</td>\n",
       "    </tr>\n",
       "    <tr>\n",
       "      <th>6</th>\n",
       "      <td>프로미스나인</td>\n",
       "      <td>7</td>\n",
       "      <td>2</td>\n",
       "      <td>NaN</td>\n",
       "      <td>NaN</td>\n",
       "    </tr>\n",
       "    <tr>\n",
       "      <th>2</th>\n",
       "      <td>TWS (투어스)</td>\n",
       "      <td>8</td>\n",
       "      <td>1</td>\n",
       "      <td>NaN</td>\n",
       "      <td>NaN</td>\n",
       "    </tr>\n",
       "  </tbody>\n",
       "</table>\n",
       "</div>"
      ],
      "text/plain": [
       "               artist  Artist_key  title             Artist  sales_expected\n",
       "3               방탄소년단           2    120              SUGA     1.287629e+10\n",
       "5           투모로우바이투게더           0      8  TOMORROWxTOGETHER    1.096389e+10\n",
       "4     세븐틴 (SEVENTEEN)           4     26          SEVENTEEN    1.034889e+10\n",
       "0  LE SSERAFIM (르세라핌)           1     54         LESSERAFIM    4.483600e+09\n",
       "1            NewJeans           5    110           NewJeans    9.905940e+08\n",
       "6              프로미스나인           7      2                NaN             NaN\n",
       "2           TWS (투어스)           8      1                NaN             NaN"
      ]
     },
     "execution_count": 656,
     "metadata": {},
     "output_type": "execute_result"
    }
   ],
   "source": [
    "pd.merge(left = df_melon , right = df_sales , how = \"left\", on = \"Artist_key\").sort_values(by = ['sales_expected','title'] , ascending = False)"
   ]
  }
 ],
 "metadata": {
  "kernelspec": {
   "display_name": "web_scapping",
   "language": "python",
   "name": "python3"
  },
  "language_info": {
   "codemirror_mode": {
    "name": "ipython",
    "version": 3
   },
   "file_extension": ".py",
   "mimetype": "text/x-python",
   "name": "python",
   "nbconvert_exporter": "python",
   "pygments_lexer": "ipython3",
   "version": "3.8.17"
  }
 },
 "nbformat": 4,
 "nbformat_minor": 2
}
